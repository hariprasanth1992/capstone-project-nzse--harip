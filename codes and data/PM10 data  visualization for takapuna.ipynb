{
 "cells": [
  {
   "cell_type": "code",
   "execution_count": 4,
   "id": "9d5584a4",
   "metadata": {},
   "outputs": [
    {
     "name": "stderr",
     "output_type": "stream",
     "text": [
      "C:\\Users\\harip\\AppData\\Local\\Temp\\ipykernel_3524\\568639540.py:20: SettingWithCopyWarning:\n",
      "\n",
      "\n",
      "A value is trying to be set on a copy of a slice from a DataFrame\n",
      "\n",
      "See the caveats in the documentation: https://pandas.pydata.org/pandas-docs/stable/user_guide/indexing.html#returning-a-view-versus-a-copy\n",
      "\n"
     ]
    }
   ],
   "source": [
    "import pandas as pd\n",
    "\n",
    "# Sample data loading (replace with your actual data loading code)\n",
    "df = pd.read_csv('pm10_data.csv')\n",
    "df['Timestamp'] = pd.to_datetime(df['Timestamp'])\n",
    "df['Value'] = pd.to_numeric(df['Value'])\n",
    "\n",
    "# Calculate Q1, Q3, and IQR\n",
    "Q1 = df['Value'].quantile(0.25)\n",
    "Q3 = df['Value'].quantile(0.75)\n",
    "IQR = Q3 - Q1\n",
    "\n",
    "# Define outliers using IQR\n",
    "outliers = ((df['Value'] < (Q1 - 1.5 * IQR)) | (df['Value'] > (Q3 + 1.5 * IQR)))\n",
    "\n",
    "# Remove outliers from the dataset\n",
    "df_clean = df[~outliers]\n",
    "\n",
    "# Perform median imputation for any remaining missing values\n",
    "df_clean['Value'].fillna(df_clean['Value'].median(), inplace=True)\n",
    "\n",
    "# Save the cleaned DataFrame to CSV\n",
    "df_clean.to_csv('cleaned_median_val_pm10_data.csv', index=False)\n"
   ]
  },
  {
   "cell_type": "code",
   "execution_count": 27,
   "id": "d8a94dcf",
   "metadata": {
    "scrolled": false
   },
   "outputs": [
    {
     "data": {
      "text/html": [
       "\n",
       "        <iframe\n",
       "            width=\"100%\"\n",
       "            height=\"650\"\n",
       "            src=\"http://127.0.0.1:8050/\"\n",
       "            frameborder=\"0\"\n",
       "            allowfullscreen\n",
       "            \n",
       "        ></iframe>\n",
       "        "
      ],
      "text/plain": [
       "<IPython.lib.display.IFrame at 0x1790b567d10>"
      ]
     },
     "metadata": {},
     "output_type": "display_data"
    }
   ],
   "source": [
    "import pandas as pd\n",
    "import plotly.express as px\n",
    "import plotly.graph_objects as go\n",
    "from plotly.subplots import make_subplots\n",
    "import dash\n",
    "from dash import dcc, html\n",
    "from dash.dependencies import Input, Output\n",
    "\n",
    "# Load your data\n",
    "df = pd.read_csv('median_val_pm10_data.csv')\n",
    "df['Timestamp'] = pd.to_datetime(df['Timestamp'])\n",
    "\n",
    "# Initialize the app\n",
    "app = dash.Dash(__name__)\n",
    "\n",
    "# App layout\n",
    "app.layout = html.Div([\n",
    "    html.H1(\"Interactive PM10 Data Visualization\"),\n",
    "    \n",
    "    # Dropdown for selecting the type of visualization\n",
    "    dcc.Dropdown(\n",
    "        id='plot-type',\n",
    "        options=[\n",
    "            {'label': 'Time Series Plot', 'value': 'time_series'},\n",
    "            {'label': 'Box Plot', 'value': 'box_plot'},\n",
    "            {'label': 'Heatmap', 'value': 'heatmap'}\n",
    "        ],\n",
    "        value='time_series'\n",
    "    ),\n",
    "    \n",
    "    # Graph to display the visualizations\n",
    "    dcc.Graph(id='graph'),\n",
    "    \n",
    "    # Slider for selecting the year\n",
    "    dcc.Slider(\n",
    "        id='year-slider',\n",
    "        min=df['Timestamp'].dt.year.min(),\n",
    "        max=df['Timestamp'].dt.year.max(),\n",
    "        value=df['Timestamp'].dt.year.min(),\n",
    "        marks={str(year): str(year) for year in df['Timestamp'].dt.year.unique()},\n",
    "        step=None\n",
    "    )\n",
    "])\n",
    "\n",
    "# Callback to update graph based on selected visualization type and year\n",
    "@app.callback(\n",
    "    Output('graph', 'figure'),\n",
    "    [Input('plot-type', 'value'), Input('year-slider', 'value')]\n",
    ")\n",
    "def update_figure(plot_type, selected_year):\n",
    "    filtered_df = df[df['Timestamp'].dt.year == selected_year]\n",
    "    \n",
    "    if plot_type == 'time_series':\n",
    "        fig = px.line(filtered_df, x='Timestamp', y='Value', title='PM10 Time Series')\n",
    "        fig.update_xaxes(title='Date')\n",
    "        fig.update_yaxes(title='PM10 Concentration')\n",
    "        \n",
    "    elif plot_type == 'box_plot':\n",
    "        fig = px.box(filtered_df, x=filtered_df['Timestamp'].dt.month, y='Value', title='Monthly PM10 Distribution')\n",
    "        fig.update_xaxes(title='Month')\n",
    "        fig.update_yaxes(title='PM10 Concentration')\n",
    "        \n",
    "    elif plot_type == 'heatmap':\n",
    "        heatmap_data = filtered_df.pivot_table(index=filtered_df['Timestamp'].dt.hour, columns=filtered_df['Timestamp'].dt.day, values='Value', aggfunc='mean')\n",
    "        fig = px.imshow(heatmap_data, title='Hourly PM10 Concentration Heatmap')\n",
    "        fig.update_xaxes(title='Day')\n",
    "        fig.update_yaxes(title='Hour')\n",
    "        \n",
    "    return fig\n",
    "\n",
    "# Run the app\n",
    "if __name__ == '__main__':\n",
    "    app.run_server(debug=True)"
   ]
  },
  {
   "cell_type": "code",
   "execution_count": 3,
   "id": "764f6794",
   "metadata": {},
   "outputs": [
    {
     "data": {
      "text/html": [
       "\n",
       "        <iframe\n",
       "            width=\"100%\"\n",
       "            height=\"650\"\n",
       "            src=\"http://127.0.0.1:8050/\"\n",
       "            frameborder=\"0\"\n",
       "            allowfullscreen\n",
       "            \n",
       "        ></iframe>\n",
       "        "
      ],
      "text/plain": [
       "<IPython.lib.display.IFrame at 0x1790697acd0>"
      ]
     },
     "metadata": {},
     "output_type": "display_data"
    }
   ],
   "source": [
    "import pandas as pd\n",
    "import plotly.express as px\n",
    "import plotly.graph_objects as go\n",
    "from plotly.subplots import make_subplots\n",
    "import dash\n",
    "from dash import dcc, html\n",
    "from dash.dependencies import Input, Output\n",
    "\n",
    "# Load your data\n",
    "df = pd.read_csv('cleaned_median_val_pm10_data.csv')\n",
    "df['Timestamp'] = pd.to_datetime(df['Timestamp'])\n",
    "\n",
    "# Initialize the app\n",
    "app = dash.Dash(__name__)\n",
    "\n",
    "# App layout\n",
    "app.layout = html.Div([\n",
    "    html.H1(\"Interactive PM10 Data Visualization\"),\n",
    "    \n",
    "    # Dropdown for selecting the type of visualization\n",
    "    dcc.Dropdown(\n",
    "        id='plot-type',\n",
    "        options=[\n",
    "            {'label': 'Time Series Plot', 'value': 'time_series'},\n",
    "            {'label': 'Box Plot', 'value': 'box_plot'},\n",
    "            {'label': 'Heatmap', 'value': 'heatmap'}\n",
    "        ],\n",
    "        value='time_series'\n",
    "    ),\n",
    "    \n",
    "    # Graph to display the visualizations\n",
    "    dcc.Graph(id='graph'),\n",
    "    \n",
    "    # Slider for selecting the year\n",
    "    dcc.Slider(\n",
    "        id='year-slider',\n",
    "        min=df['Timestamp'].dt.year.min(),\n",
    "        max=df['Timestamp'].dt.year.max(),\n",
    "        value=df['Timestamp'].dt.year.min(),\n",
    "        marks={str(year): str(year) for year in df['Timestamp'].dt.year.unique()},\n",
    "        step=None\n",
    "    )\n",
    "])\n",
    "\n",
    "# Callback to update graph based on selected visualization type and year\n",
    "@app.callback(\n",
    "    Output('graph', 'figure'),\n",
    "    [Input('plot-type', 'value'), Input('year-slider', 'value')]\n",
    ")\n",
    "def update_figure(plot_type, selected_year):\n",
    "    filtered_df = df[df['Timestamp'].dt.year == selected_year]\n",
    "    \n",
    "    if plot_type == 'time_series':\n",
    "        fig = px.line(filtered_df, x='Timestamp', y='Value', title='PM10 Time Series')\n",
    "        fig.update_xaxes(title='Date')\n",
    "        fig.update_yaxes(title='PM10 Concentration')\n",
    "        \n",
    "    elif plot_type == 'box_plot':\n",
    "        fig = px.box(filtered_df, x=filtered_df['Timestamp'].dt.month, y='Value', title='Monthly PM10 Distribution')\n",
    "        fig.update_xaxes(title='Month')\n",
    "        fig.update_yaxes(title='PM10 Concentration')\n",
    "        \n",
    "    elif plot_type == 'heatmap':\n",
    "        heatmap_data = filtered_df.pivot_table(index=filtered_df['Timestamp'].dt.hour, columns=filtered_df['Timestamp'].dt.day, values='Value', aggfunc='mean')\n",
    "        fig = px.imshow(heatmap_data, title='Hourly PM10 Concentration Heatmap')\n",
    "        fig.update_xaxes(title='Day')\n",
    "        fig.update_yaxes(title='Hour')\n",
    "        \n",
    "    return fig\n",
    "\n",
    "# Run the app\n",
    "if __name__ == '__main__':\n",
    "    app.run_server(debug=True)"
   ]
  },
  {
   "cell_type": "code",
   "execution_count": 8,
   "id": "db955aad",
   "metadata": {},
   "outputs": [
    {
     "name": "stderr",
     "output_type": "stream",
     "text": [
      "findfont: Font family 'Helvetica' not found.\n",
      "findfont: Font family 'Helvetica' not found.\n",
      "findfont: Font family 'Helvetica' not found.\n",
      "findfont: Font family 'Helvetica' not found.\n",
      "findfont: Font family 'Helvetica' not found.\n",
      "findfont: Font family 'Helvetica' not found.\n",
      "findfont: Font family 'Helvetica' not found.\n",
      "findfont: Font family 'Helvetica' not found.\n",
      "findfont: Font family 'Helvetica' not found.\n",
      "findfont: Font family 'Helvetica' not found.\n",
      "findfont: Font family 'Helvetica' not found.\n",
      "findfont: Font family 'Helvetica' not found.\n",
      "findfont: Font family 'Helvetica' not found.\n",
      "findfont: Font family 'Helvetica' not found.\n",
      "findfont: Font family 'Helvetica' not found.\n",
      "findfont: Font family 'Helvetica' not found.\n",
      "findfont: Font family 'Helvetica' not found.\n",
      "findfont: Font family 'Helvetica' not found.\n",
      "findfont: Font family 'Helvetica' not found.\n",
      "findfont: Font family 'Helvetica' not found.\n"
     ]
    },
    {
     "data": {
      "text/plain": [
       "(<Figure size 1250x3230 with 20 Axes>,\n",
       " array([<Axes: ylabel='2006'>, <Axes: ylabel='2007'>,\n",
       "        <Axes: ylabel='2008'>, <Axes: ylabel='2009'>,\n",
       "        <Axes: ylabel='2010'>, <Axes: ylabel='2011'>,\n",
       "        <Axes: ylabel='2012'>, <Axes: ylabel='2013'>,\n",
       "        <Axes: ylabel='2014'>, <Axes: ylabel='2015'>,\n",
       "        <Axes: ylabel='2016'>, <Axes: ylabel='2017'>,\n",
       "        <Axes: ylabel='2018'>, <Axes: ylabel='2019'>,\n",
       "        <Axes: ylabel='2020'>, <Axes: ylabel='2021'>,\n",
       "        <Axes: ylabel='2022'>, <Axes: ylabel='2023'>,\n",
       "        <Axes: ylabel='2024'>], dtype=object))"
      ]
     },
     "execution_count": 8,
     "metadata": {},
     "output_type": "execute_result"
    },
    {
     "name": "stderr",
     "output_type": "stream",
     "text": [
      "findfont: Font family 'Helvetica' not found.\n",
      "findfont: Font family 'Helvetica' not found.\n",
      "findfont: Font family 'Helvetica' not found.\n",
      "findfont: Font family 'Helvetica' not found.\n",
      "findfont: Font family 'Helvetica' not found.\n",
      "findfont: Font family 'Helvetica' not found.\n",
      "findfont: Font family 'Helvetica' not found.\n",
      "findfont: Font family 'Helvetica' not found.\n",
      "findfont: Font family 'Helvetica' not found.\n",
      "findfont: Font family 'Helvetica' not found.\n",
      "findfont: Font family 'Helvetica' not found.\n",
      "findfont: Font family 'Helvetica' not found.\n",
      "findfont: Font family 'Helvetica' not found.\n",
      "findfont: Font family 'Helvetica' not found.\n",
      "findfont: Font family 'Helvetica' not found.\n",
      "findfont: Font family 'Helvetica' not found.\n",
      "findfont: Font family 'Helvetica' not found.\n",
      "findfont: Font family 'Helvetica' not found.\n",
      "findfont: Font family 'Helvetica' not found.\n",
      "findfont: Font family 'Helvetica' not found.\n",
      "findfont: Font family 'Helvetica' not found.\n",
      "findfont: Font family 'Helvetica' not found.\n",
      "findfont: Font family 'Helvetica' not found.\n",
      "findfont: Font family 'Helvetica' not found.\n",
      "findfont: Font family 'Helvetica' not found.\n",
      "findfont: Font family 'Helvetica' not found.\n",
      "findfont: Font family 'Helvetica' not found.\n",
      "findfont: Font family 'Helvetica' not found.\n",
      "findfont: Font family 'Helvetica' not found.\n",
      "findfont: Font family 'Helvetica' not found.\n",
      "findfont: Font family 'Helvetica' not found.\n",
      "findfont: Font family 'Helvetica' not found.\n",
      "findfont: Font family 'Helvetica' not found.\n",
      "findfont: Font family 'Helvetica' not found.\n",
      "findfont: Font family 'Helvetica' not found.\n",
      "findfont: Font family 'Helvetica' not found.\n",
      "findfont: Font family 'Helvetica' not found.\n",
      "findfont: Font family 'Helvetica' not found.\n",
      "findfont: Font family 'Helvetica' not found.\n",
      "findfont: Font family 'Helvetica' not found.\n",
      "findfont: Font family 'Helvetica' not found.\n",
      "findfont: Font family 'Helvetica' not found.\n",
      "findfont: Font family 'Helvetica' not found.\n",
      "findfont: Font family 'Helvetica' not found.\n",
      "findfont: Font family 'Helvetica' not found.\n",
      "findfont: Font family 'Helvetica' not found.\n",
      "findfont: Font family 'Helvetica' not found.\n",
      "findfont: Font family 'Helvetica' not found.\n",
      "findfont: Font family 'Helvetica' not found.\n",
      "findfont: Font family 'Helvetica' not found.\n",
      "findfont: Font family 'Helvetica' not found.\n",
      "findfont: Font family 'Helvetica' not found.\n",
      "findfont: Font family 'Helvetica' not found.\n",
      "findfont: Font family 'Helvetica' not found.\n",
      "findfont: Font family 'Helvetica' not found.\n",
      "findfont: Font family 'Helvetica' not found.\n",
      "findfont: Font family 'Helvetica' not found.\n",
      "findfont: Font family 'Helvetica' not found.\n"
     ]
    },
    {
     "data": {
      "image/png": "[encoded data removed]",
      "text/plain": [
       "<Figure size 1250x3230 with 20 Axes>"
      ]
     },
     "metadata": {},
     "output_type": "display_data"
    }
   ],
   "source": [
    "import pandas as pd\n",
    "import calplot\n",
    "\n",
    "# Assuming 'daily_mean' DataFrame is already defined and 'Date' has been converted to datetime\n",
    "daily_mean['Date'] = pd.to_datetime(daily_mean['Date'])\n",
    "daily_mean.set_index('Date', inplace=True)  # Set 'Date' as the index\n",
    "\n",
    "# Now you can use calplot with the index having a year attribute\n",
    "calplot.calplot(daily_mean['Value'], how='mean', cmap='YlOrRd', suptitle='Daily Average PM10 Concentration')\n",
    "\n"
   ]
  },
  {
   "cell_type": "code",
   "execution_count": 28,
   "id": "42480e78",
   "metadata": {},
   "outputs": [
    {
     "data": {
      "text/html": [
       "\n",
       "        <iframe\n",
       "            width=\"100%\"\n",
       "            height=\"650\"\n",
       "            src=\"http://127.0.0.1:8050/\"\n",
       "            frameborder=\"0\"\n",
       "            allowfullscreen\n",
       "            \n",
       "        ></iframe>\n",
       "        "
      ],
      "text/plain": [
       "<IPython.lib.display.IFrame at 0x1791c434450>"
      ]
     },
     "metadata": {},
     "output_type": "display_data"
    }
   ],
   "source": [
    "import pandas as pd\n",
    "import plotly.express as px\n",
    "from dash import Dash, dcc, html\n",
    "from dash.dependencies import Input, Output\n",
    "\n",
    "# Load your data\n",
    "df = pd.read_csv('cleaned_median_val_pm10_data.csv')\n",
    "df['Timestamp'] = pd.to_datetime(df['Timestamp'])\n",
    "\n",
    "# Create a 'Month_Day' column for filtering by same date across years\n",
    "df['Month_Day'] = df['Timestamp'].dt.strftime('%m-%d')\n",
    "\n",
    "# Initialize the Dash app\n",
    "app = Dash(__name__)\n",
    "\n",
    "app.layout = html.Div([\n",
    "    html.H1(\"PM10 Data Visualization Across Years for a Specific Date\"),\n",
    "    dcc.Dropdown(\n",
    "        id='date-picker',\n",
    "        options=[{'label': date, 'value': date} for date in df['Month_Day'].unique()],\n",
    "        value='04-02'  # Default value can be set to any valid date\n",
    "    ),\n",
    "    dcc.Graph(id='time-series-graph')\n",
    "])\n",
    "\n",
    "@app.callback(\n",
    "    Output('time-series-graph', 'figure'),\n",
    "    Input('date-picker', 'value')\n",
    ")\n",
    "def update_graph(selected_date):\n",
    "    # Filter DataFrame by 'Month_Day' to get data for the selected date across all years\n",
    "    filtered_df = df[df['Month_Day'] == selected_date]\n",
    "    fig = px.line(filtered_df, x='Timestamp', y='Value', title=f'PM10 Levels on {selected_date} Across Years')\n",
    "    fig.update_xaxes(title='Year')\n",
    "    fig.update_yaxes(title='PM10 Concentration')\n",
    "    return fig\n",
    "\n",
    "# Run the app\n",
    "if __name__ == '__main__':\n",
    "    app.run_server(debug=True)\n"
   ]
  },
  {
   "cell_type": "code",
   "execution_count": 25,
   "id": "18720c07",
   "metadata": {},
   "outputs": [
    {
     "data": {
      "application/vnd.plotly.v1+json": {
       "config": {
        "plotlyServerURL": "https://plot.ly"
       },
       "data": [
        {
         "customdata": [
          [
           "2006-04-27T00:00:00+12:00"
          ],
          [
           "2006-04-27T01:00:00+12:00"
          ],
          [
           "2006-04-27T02:00:00+12:00"
          ],
          [
           "2006-04-27T03:00:00+12:00"
          ],
          [
           "2006-04-27T04:00:00+12:00"
          ],
          [
           "2006-04-27T05:00:00+12:00"
          ],
          [
           "2006-04-27T06:00:00+12:00"
          ],
          [
           "2006-04-27T07:00:00+12:00"
          ],
          [
           "2006-04-27T10:00:00+12:00"
          ],
          [
           "2006-04-27T11:00:00+12:00"
          ],
          [
           "2006-04-27T12:00:00+12:00"
          ],
          [
           "2006-04-27T13:00:00+12:00"
          ],
          [
           "2006-04-27T14:00:00+12:00"
          ],
          [
           "2006-04-27T15:00:00+12:00"
          ],
          [
           "2006-04-27T16:00:00+12:00"
          ],
          [
           "2006-04-27T17:00:00+12:00"
          ],
          [
           "2006-04-27T18:00:00+12:00"
          ],
          [
           "2006-04-27T19:00:00+12:00"
          ],
          [
           "2006-04-27T20:00:00+12:00"
          ],
          [
           "2006-04-27T21:00:00+12:00"
          ],
          [
           "2006-04-27T22:00:00+12:00"
          ],
          [
           "2006-04-27T23:00:00+12:00"
          ],
          [
           "2007-04-27T00:00:00+12:00"
          ],
          [
           "2007-04-27T01:00:00+12:00"
          ],
          [
           "2007-04-27T02:00:00+12:00"
          ],
          [
           "2007-04-27T03:00:00+12:00"
          ],
          [
           "2007-04-27T04:00:00+12:00"
          ],
          [
           "2007-04-27T05:00:00+12:00"
          ],
          [
           "2007-04-27T06:00:00+12:00"
          ],
          [
           "2007-04-27T07:00:00+12:00"
          ],
          [
           "2007-04-27T10:00:00+12:00"
          ],
          [
           "2007-04-27T11:00:00+12:00"
          ],
          [
           "2007-04-27T12:00:00+12:00"
          ],
          [
           "2007-04-27T13:00:00+12:00"
          ],
          [
           "2007-04-27T14:00:00+12:00"
          ],
          [
           "2007-04-27T15:00:00+12:00"
          ],
          [
           "2007-04-27T16:00:00+12:00"
          ],
          [
           "2007-04-27T17:00:00+12:00"
          ],
          [
           "2007-04-27T18:00:00+12:00"
          ],
          [
           "2007-04-27T19:00:00+12:00"
          ],
          [
           "2007-04-27T20:00:00+12:00"
          ],
          [
           "2007-04-27T21:00:00+12:00"
          ],
          [
           "2007-04-27T22:00:00+12:00"
          ],
          [
           "2007-04-27T23:00:00+12:00"
          ],
          [
           "2008-04-27T00:00:00+12:00"
          ],
          [
           "2008-04-27T01:00:00+12:00"
          ],
          [
           "2008-04-27T02:00:00+12:00"
          ],
          [
           "2008-04-27T03:00:00+12:00"
          ],
          [
           "2008-04-27T04:00:00+12:00"
          ],
          [
           "2008-04-27T05:00:00+12:00"
          ],
          [
           "2008-04-27T06:00:00+12:00"
          ],
          [
           "2008-04-27T07:00:00+12:00"
          ],
          [
           "2008-04-27T08:00:00+12:00"
          ],
          [
           "2008-04-27T09:00:00+12:00"
          ],
          [
           "2008-04-27T10:00:00+12:00"
          ],
          [
           "2008-04-27T11:00:00+12:00"
          ],
          [
           "2008-04-27T12:00:00+12:00"
          ],
          [
           "2008-04-27T13:00:00+12:00"
          ],
          [
           "2008-04-27T14:00:00+12:00"
          ],
          [
           "2008-04-27T15:00:00+12:00"
          ],
          [
           "2008-04-27T16:00:00+12:00"
          ],
          [
           "2008-04-27T17:00:00+12:00"
          ],
          [
           "2008-04-27T18:00:00+12:00"
          ],
          [
           "2008-04-27T19:00:00+12:00"
          ],
          [
           "2008-04-27T20:00:00+12:00"
          ],
          [
           "2008-04-27T21:00:00+12:00"
          ],
          [
           "2008-04-27T22:00:00+12:00"
          ],
          [
           "2008-04-27T23:00:00+12:00"
          ],
          [
           "2009-04-27T00:00:00+12:00"
          ],
          [
           "2009-04-27T01:00:00+12:00"
          ],
          [
           "2009-04-27T02:00:00+12:00"
          ],
          [
           "2009-04-27T03:00:00+12:00"
          ],
          [
           "2009-04-27T04:00:00+12:00"
          ],
          [
           "2009-04-27T05:00:00+12:00"
          ],
          [
           "2009-04-27T06:00:00+12:00"
          ],
          [
           "2009-04-27T07:00:00+12:00"
          ],
          [
           "2009-04-27T08:00:00+12:00"
          ],
          [
           "2009-04-27T09:00:00+12:00"
          ],
          [
           "2009-04-27T10:00:00+12:00"
          ],
          [
           "2009-04-27T11:00:00+12:00"
          ],
          [
           "2009-04-27T12:00:00+12:00"
          ],
          [
           "2009-04-27T14:00:00+12:00"
          ],
          [
           "2009-04-27T16:00:00+12:00"
          ],
          [
           "2009-04-27T18:00:00+12:00"
          ],
          [
           "2009-04-27T19:00:00+12:00"
          ],
          [
           "2009-04-27T20:00:00+12:00"
          ],
          [
           "2009-04-27T21:00:00+12:00"
          ],
          [
           "2009-04-27T22:00:00+12:00"
          ],
          [
           "2009-04-27T23:00:00+12:00"
          ],
          [
           "2010-04-27T00:00:00+12:00"
          ],
          [
           "2010-04-27T01:00:00+12:00"
          ],
          [
           "2010-04-27T02:00:00+12:00"
          ],
          [
           "2010-04-27T03:00:00+12:00"
          ],
          [
           "2010-04-27T04:00:00+12:00"
          ],
          [
           "2010-04-27T05:00:00+12:00"
          ],
          [
           "2010-04-27T06:00:00+12:00"
          ],
          [
           "2010-04-27T07:00:00+12:00"
          ],
          [
           "2010-04-27T08:00:00+12:00"
          ],
          [
           "2010-04-27T09:00:00+12:00"
          ],
          [
           "2010-04-27T10:00:00+12:00"
          ],
          [
           "2010-04-27T11:00:00+12:00"
          ],
          [
           "2010-04-27T12:00:00+12:00"
          ],
          [
           "2010-04-27T13:00:00+12:00"
          ],
          [
           "2010-04-27T14:00:00+12:00"
          ],
          [
           "2010-04-27T15:00:00+12:00"
          ],
          [
           "2010-04-27T16:00:00+12:00"
          ],
          [
           "2010-04-27T17:00:00+12:00"
          ],
          [
           "2010-04-27T18:00:00+12:00"
          ],
          [
           "2010-04-27T19:00:00+12:00"
          ],
          [
           "2010-04-27T20:00:00+12:00"
          ],
          [
           "2010-04-27T21:00:00+12:00"
          ],
          [
           "2010-04-27T22:00:00+12:00"
          ],
          [
           "2010-04-27T23:00:00+12:00"
          ],
          [
           "2011-04-27T00:00:00+12:00"
          ],
          [
           "2011-04-27T01:00:00+12:00"
          ],
          [
           "2011-04-27T02:00:00+12:00"
          ],
          [
           "2011-04-27T03:00:00+12:00"
          ],
          [
           "2011-04-27T04:00:00+12:00"
          ],
          [
           "2011-04-27T05:00:00+12:00"
          ],
          [
           "2011-04-27T06:00:00+12:00"
          ],
          [
           "2011-04-27T07:00:00+12:00"
          ],
          [
           "2011-04-27T08:00:00+12:00"
          ],
          [
           "2011-04-27T09:00:00+12:00"
          ],
          [
           "2011-04-27T10:00:00+12:00"
          ],
          [
           "2011-04-27T11:00:00+12:00"
          ],
          [
           "2011-04-27T12:00:00+12:00"
          ],
          [
           "2011-04-27T13:00:00+12:00"
          ],
          [
           "2011-04-27T14:00:00+12:00"
          ],
          [
           "2011-04-27T15:00:00+12:00"
          ],
          [
           "2011-04-27T16:00:00+12:00"
          ],
          [
           "2011-04-27T17:00:00+12:00"
          ],
          [
           "2011-04-27T18:00:00+12:00"
          ],
          [
           "2011-04-27T19:00:00+12:00"
          ],
          [
           "2011-04-27T20:00:00+12:00"
          ],
          [
           "2011-04-27T21:00:00+12:00"
          ],
          [
           "2011-04-27T22:00:00+12:00"
          ],
          [
           "2011-04-27T23:00:00+12:00"
          ],
          [
           "2012-04-27T00:00:00+12:00"
          ],
          [
           "2012-04-27T01:00:00+12:00"
          ],
          [
           "2012-04-27T02:00:00+12:00"
          ],
          [
           "2012-04-27T03:00:00+12:00"
          ],
          [
           "2012-04-27T04:00:00+12:00"
          ],
          [
           "2012-04-27T05:00:00+12:00"
          ],
          [
           "2012-04-27T06:00:00+12:00"
          ],
          [
           "2012-04-27T07:00:00+12:00"
          ],
          [
           "2012-04-27T08:00:00+12:00"
          ],
          [
           "2012-04-27T09:00:00+12:00"
          ],
          [
           "2012-04-27T10:00:00+12:00"
          ],
          [
           "2012-04-27T11:00:00+12:00"
          ],
          [
           "2012-04-27T12:00:00+12:00"
          ],
          [
           "2012-04-27T13:00:00+12:00"
          ],
          [
           "2012-04-27T14:00:00+12:00"
          ],
          [
           "2012-04-27T15:00:00+12:00"
          ],
          [
           "2012-04-27T17:00:00+12:00"
          ],
          [
           "2012-04-27T18:00:00+12:00"
          ],
          [
           "2012-04-27T19:00:00+12:00"
          ],
          [
           "2012-04-27T20:00:00+12:00"
          ],
          [
           "2012-04-27T21:00:00+12:00"
          ],
          [
           "2012-04-27T22:00:00+12:00"
          ],
          [
           "2012-04-27T23:00:00+12:00"
          ],
          [
           "2013-04-27T00:00:00+12:00"
          ],
          [
           "2013-04-27T01:00:00+12:00"
          ],
          [
           "2013-04-27T02:00:00+12:00"
          ],
          [
           "2013-04-27T03:00:00+12:00"
          ],
          [
           "2013-04-27T04:00:00+12:00"
          ],
          [
           "2013-04-27T05:00:00+12:00"
          ],
          [
           "2013-04-27T06:00:00+12:00"
          ],
          [
           "2013-04-27T07:00:00+12:00"
          ],
          [
           "2013-04-27T08:00:00+12:00"
          ],
          [
           "2013-04-27T09:00:00+12:00"
          ],
          [
           "2013-04-27T10:00:00+12:00"
          ],
          [
           "2013-04-27T11:00:00+12:00"
          ],
          [
           "2013-04-27T13:00:00+12:00"
          ],
          [
           "2013-04-27T14:00:00+12:00"
          ],
          [
           "2013-04-27T15:00:00+12:00"
          ],
          [
           "2013-04-27T16:00:00+12:00"
          ],
          [
           "2013-04-27T17:00:00+12:00"
          ],
          [
           "2013-04-27T18:00:00+12:00"
          ],
          [
           "2013-04-27T19:00:00+12:00"
          ],
          [
           "2013-04-27T20:00:00+12:00"
          ],
          [
           "2013-04-27T21:00:00+12:00"
          ],
          [
           "2013-04-27T22:00:00+12:00"
          ],
          [
           "2013-04-27T23:00:00+12:00"
          ],
          [
           "2014-04-27T00:00:00+12:00"
          ],
          [
           "2014-04-27T01:00:00+12:00"
          ],
          [
           "2014-04-27T02:00:00+12:00"
          ],
          [
           "2014-04-27T03:00:00+12:00"
          ],
          [
           "2014-04-27T04:00:00+12:00"
          ],
          [
           "2014-04-27T05:00:00+12:00"
          ],
          [
           "2014-04-27T06:00:00+12:00"
          ],
          [
           "2014-04-27T07:00:00+12:00"
          ],
          [
           "2014-04-27T08:00:00+12:00"
          ],
          [
           "2014-04-27T09:00:00+12:00"
          ],
          [
           "2014-04-27T10:00:00+12:00"
          ],
          [
           "2014-04-27T11:00:00+12:00"
          ],
          [
           "2014-04-27T12:00:00+12:00"
          ],
          [
           "2014-04-27T13:00:00+12:00"
          ],
          [
           "2014-04-27T14:00:00+12:00"
          ],
          [
           "2014-04-27T15:00:00+12:00"
          ],
          [
           "2014-04-27T16:00:00+12:00"
          ],
          [
           "2014-04-27T17:00:00+12:00"
          ],
          [
           "2014-04-27T18:00:00+12:00"
          ],
          [
           "2014-04-27T19:00:00+12:00"
          ],
          [
           "2014-04-27T20:00:00+12:00"
          ],
          [
           "2014-04-27T21:00:00+12:00"
          ],
          [
           "2014-04-27T22:00:00+12:00"
          ],
          [
           "2014-04-27T23:00:00+12:00"
          ],
          [
           "2015-04-27T00:00:00+12:00"
          ],
          [
           "2015-04-27T01:00:00+12:00"
          ],
          [
           "2015-04-27T02:00:00+12:00"
          ],
          [
           "2015-04-27T03:00:00+12:00"
          ],
          [
           "2015-04-27T04:00:00+12:00"
          ],
          [
           "2015-04-27T05:00:00+12:00"
          ],
          [
           "2015-04-27T06:00:00+12:00"
          ],
          [
           "2015-04-27T07:00:00+12:00"
          ],
          [
           "2015-04-27T08:00:00+12:00"
          ],
          [
           "2015-04-27T09:00:00+12:00"
          ],
          [
           "2015-04-27T10:00:00+12:00"
          ],
          [
           "2015-04-27T11:00:00+12:00"
          ],
          [
           "2015-04-27T12:00:00+12:00"
          ],
          [
           "2015-04-27T13:00:00+12:00"
          ],
          [
           "2015-04-27T14:00:00+12:00"
          ],
          [
           "2015-04-27T15:00:00+12:00"
          ],
          [
           "2015-04-27T16:00:00+12:00"
          ],
          [
           "2015-04-27T17:00:00+12:00"
          ],
          [
           "2015-04-27T18:00:00+12:00"
          ],
          [
           "2015-04-27T19:00:00+12:00"
          ],
          [
           "2015-04-27T20:00:00+12:00"
          ],
          [
           "2015-04-27T21:00:00+12:00"
          ],
          [
           "2015-04-27T22:00:00+12:00"
          ],
          [
           "2015-04-27T23:00:00+12:00"
          ],
          [
           "2016-04-27T00:00:00+12:00"
          ],
          [
           "2016-04-27T01:00:00+12:00"
          ],
          [
           "2016-04-27T02:00:00+12:00"
          ],
          [
           "2016-04-27T03:00:00+12:00"
          ],
          [
           "2016-04-27T04:00:00+12:00"
          ],
          [
           "2016-04-27T05:00:00+12:00"
          ],
          [
           "2016-04-27T06:00:00+12:00"
          ],
          [
           "2016-04-27T07:00:00+12:00"
          ],
          [
           "2016-04-27T08:00:00+12:00"
          ],
          [
           "2016-04-27T10:00:00+12:00"
          ],
          [
           "2016-04-27T11:00:00+12:00"
          ],
          [
           "2016-04-27T12:00:00+12:00"
          ],
          [
           "2016-04-27T13:00:00+12:00"
          ],
          [
           "2016-04-27T14:00:00+12:00"
          ],
          [
           "2016-04-27T15:00:00+12:00"
          ],
          [
           "2016-04-27T16:00:00+12:00"
          ],
          [
           "2016-04-27T17:00:00+12:00"
          ],
          [
           "2016-04-27T18:00:00+12:00"
          ],
          [
           "2016-04-27T19:00:00+12:00"
          ],
          [
           "2016-04-27T20:00:00+12:00"
          ],
          [
           "2016-04-27T21:00:00+12:00"
          ],
          [
           "2016-04-27T22:00:00+12:00"
          ],
          [
           "2016-04-27T23:00:00+12:00"
          ],
          [
           "2017-04-27T00:00:00+12:00"
          ],
          [
           "2017-04-27T01:00:00+12:00"
          ],
          [
           "2017-04-27T02:00:00+12:00"
          ],
          [
           "2017-04-27T03:00:00+12:00"
          ],
          [
           "2017-04-27T04:00:00+12:00"
          ],
          [
           "2017-04-27T05:00:00+12:00"
          ],
          [
           "2017-04-27T06:00:00+12:00"
          ],
          [
           "2017-04-27T07:00:00+12:00"
          ],
          [
           "2017-04-27T08:00:00+12:00"
          ],
          [
           "2017-04-27T09:00:00+12:00"
          ],
          [
           "2017-04-27T10:00:00+12:00"
          ],
          [
           "2017-04-27T11:00:00+12:00"
          ],
          [
           "2017-04-27T12:00:00+12:00"
          ],
          [
           "2017-04-27T13:00:00+12:00"
          ],
          [
           "2017-04-27T14:00:00+12:00"
          ],
          [
           "2017-04-27T15:00:00+12:00"
          ],
          [
           "2017-04-27T16:00:00+12:00"
          ],
          [
           "2017-04-27T17:00:00+12:00"
          ],
          [
           "2017-04-27T18:00:00+12:00"
          ],
          [
           "2017-04-27T19:00:00+12:00"
          ],
          [
           "2017-04-27T20:00:00+12:00"
          ],
          [
           "2017-04-27T21:00:00+12:00"
          ],
          [
           "2017-04-27T22:00:00+12:00"
          ],
          [
           "2017-04-27T23:00:00+12:00"
          ],
          [
           "2018-04-27T00:00:00+12:00"
          ],
          [
           "2018-04-27T01:00:00+12:00"
          ],
          [
           "2018-04-27T02:00:00+12:00"
          ],
          [
           "2018-04-27T03:00:00+12:00"
          ],
          [
           "2018-04-27T04:00:00+12:00"
          ],
          [
           "2018-04-27T05:00:00+12:00"
          ],
          [
           "2018-04-27T06:00:00+12:00"
          ],
          [
           "2018-04-27T07:00:00+12:00"
          ],
          [
           "2018-04-27T08:00:00+12:00"
          ],
          [
           "2018-04-27T09:00:00+12:00"
          ],
          [
           "2018-04-27T10:00:00+12:00"
          ],
          [
           "2018-04-27T11:00:00+12:00"
          ],
          [
           "2018-04-27T12:00:00+12:00"
          ],
          [
           "2018-04-27T13:00:00+12:00"
          ],
          [
           "2018-04-27T14:00:00+12:00"
          ],
          [
           "2018-04-27T15:00:00+12:00"
          ],
          [
           "2018-04-27T16:00:00+12:00"
          ],
          [
           "2018-04-27T17:00:00+12:00"
          ],
          [
           "2018-04-27T18:00:00+12:00"
          ],
          [
           "2018-04-27T19:00:00+12:00"
          ],
          [
           "2018-04-27T20:00:00+12:00"
          ],
          [
           "2018-04-27T21:00:00+12:00"
          ],
          [
           "2018-04-27T22:00:00+12:00"
          ],
          [
           "2018-04-27T23:00:00+12:00"
          ],
          [
           "2019-04-27T00:00:00+12:00"
          ],
          [
           "2019-04-27T01:00:00+12:00"
          ],
          [
           "2019-04-27T02:00:00+12:00"
          ],
          [
           "2019-04-27T03:00:00+12:00"
          ],
          [
           "2019-04-27T04:00:00+12:00"
          ],
          [
           "2019-04-27T05:00:00+12:00"
          ],
          [
           "2019-04-27T06:00:00+12:00"
          ],
          [
           "2019-04-27T07:00:00+12:00"
          ],
          [
           "2019-04-27T08:00:00+12:00"
          ],
          [
           "2019-04-27T09:00:00+12:00"
          ],
          [
           "2019-04-27T10:00:00+12:00"
          ],
          [
           "2019-04-27T11:00:00+12:00"
          ],
          [
           "2019-04-27T12:00:00+12:00"
          ],
          [
           "2019-04-27T13:00:00+12:00"
          ],
          [
           "2019-04-27T14:00:00+12:00"
          ],
          [
           "2019-04-27T15:00:00+12:00"
          ],
          [
           "2019-04-27T16:00:00+12:00"
          ],
          [
           "2019-04-27T17:00:00+12:00"
          ],
          [
           "2019-04-27T18:00:00+12:00"
          ],
          [
           "2019-04-27T19:00:00+12:00"
          ],
          [
           "2019-04-27T20:00:00+12:00"
          ],
          [
           "2019-04-27T21:00:00+12:00"
          ],
          [
           "2019-04-27T22:00:00+12:00"
          ],
          [
           "2019-04-27T23:00:00+12:00"
          ],
          [
           "2020-04-27T00:00:00+12:00"
          ],
          [
           "2020-04-27T01:00:00+12:00"
          ],
          [
           "2020-04-27T02:00:00+12:00"
          ],
          [
           "2020-04-27T03:00:00+12:00"
          ],
          [
           "2020-04-27T04:00:00+12:00"
          ],
          [
           "2020-04-27T05:00:00+12:00"
          ],
          [
           "2020-04-27T06:00:00+12:00"
          ],
          [
           "2020-04-27T07:00:00+12:00"
          ],
          [
           "2020-04-27T08:00:00+12:00"
          ],
          [
           "2020-04-27T09:00:00+12:00"
          ],
          [
           "2020-04-27T10:00:00+12:00"
          ],
          [
           "2020-04-27T11:00:00+12:00"
          ],
          [
           "2020-04-27T12:00:00+12:00"
          ],
          [
           "2020-04-27T13:00:00+12:00"
          ],
          [
           "2020-04-27T14:00:00+12:00"
          ],
          [
           "2020-04-27T15:00:00+12:00"
          ],
          [
           "2020-04-27T16:00:00+12:00"
          ],
          [
           "2020-04-27T17:00:00+12:00"
          ],
          [
           "2020-04-27T18:00:00+12:00"
          ],
          [
           "2020-04-27T19:00:00+12:00"
          ],
          [
           "2020-04-27T20:00:00+12:00"
          ],
          [
           "2020-04-27T21:00:00+12:00"
          ],
          [
           "2020-04-27T22:00:00+12:00"
          ],
          [
           "2020-04-27T23:00:00+12:00"
          ],
          [
           "2021-04-27T00:00:00+12:00"
          ],
          [
           "2021-04-27T01:00:00+12:00"
          ],
          [
           "2021-04-27T02:00:00+12:00"
          ],
          [
           "2021-04-27T03:00:00+12:00"
          ],
          [
           "2021-04-27T04:00:00+12:00"
          ],
          [
           "2021-04-27T05:00:00+12:00"
          ],
          [
           "2021-04-27T06:00:00+12:00"
          ],
          [
           "2021-04-27T07:00:00+12:00"
          ],
          [
           "2021-04-27T08:00:00+12:00"
          ],
          [
           "2021-04-27T09:00:00+12:00"
          ],
          [
           "2021-04-27T10:00:00+12:00"
          ],
          [
           "2021-04-27T11:00:00+12:00"
          ],
          [
           "2021-04-27T12:00:00+12:00"
          ],
          [
           "2021-04-27T13:00:00+12:00"
          ],
          [
           "2021-04-27T14:00:00+12:00"
          ],
          [
           "2021-04-27T15:00:00+12:00"
          ],
          [
           "2021-04-27T16:00:00+12:00"
          ],
          [
           "2021-04-27T17:00:00+12:00"
          ],
          [
           "2021-04-27T18:00:00+12:00"
          ],
          [
           "2021-04-27T19:00:00+12:00"
          ],
          [
           "2021-04-27T20:00:00+12:00"
          ],
          [
           "2021-04-27T21:00:00+12:00"
          ],
          [
           "2021-04-27T22:00:00+12:00"
          ],
          [
           "2021-04-27T23:00:00+12:00"
          ],
          [
           "2022-04-27T00:00:00+12:00"
          ],
          [
           "2022-04-27T01:00:00+12:00"
          ],
          [
           "2022-04-27T02:00:00+12:00"
          ],
          [
           "2022-04-27T03:00:00+12:00"
          ],
          [
           "2022-04-27T04:00:00+12:00"
          ],
          [
           "2022-04-27T05:00:00+12:00"
          ],
          [
           "2022-04-27T06:00:00+12:00"
          ],
          [
           "2022-04-27T07:00:00+12:00"
          ],
          [
           "2022-04-27T08:00:00+12:00"
          ],
          [
           "2022-04-27T09:00:00+12:00"
          ],
          [
           "2022-04-27T10:00:00+12:00"
          ],
          [
           "2022-04-27T11:00:00+12:00"
          ],
          [
           "2022-04-27T12:00:00+12:00"
          ],
          [
           "2022-04-27T13:00:00+12:00"
          ],
          [
           "2022-04-27T14:00:00+12:00"
          ],
          [
           "2022-04-27T15:00:00+12:00"
          ],
          [
           "2022-04-27T16:00:00+12:00"
          ],
          [
           "2022-04-27T17:00:00+12:00"
          ],
          [
           "2022-04-27T18:00:00+12:00"
          ],
          [
           "2022-04-27T19:00:00+12:00"
          ],
          [
           "2022-04-27T20:00:00+12:00"
          ],
          [
           "2022-04-27T21:00:00+12:00"
          ],
          [
           "2022-04-27T22:00:00+12:00"
          ],
          [
           "2022-04-27T23:00:00+12:00"
          ],
          [
           "2023-04-27T00:00:00+12:00"
          ],
          [
           "2023-04-27T01:00:00+12:00"
          ],
          [
           "2023-04-27T02:00:00+12:00"
          ],
          [
           "2023-04-27T03:00:00+12:00"
          ],
          [
           "2023-04-27T04:00:00+12:00"
          ],
          [
           "2023-04-27T05:00:00+12:00"
          ],
          [
           "2023-04-27T06:00:00+12:00"
          ],
          [
           "2023-04-27T07:00:00+12:00"
          ],
          [
           "2023-04-27T08:00:00+12:00"
          ],
          [
           "2023-04-27T09:00:00+12:00"
          ],
          [
           "2023-04-27T10:00:00+12:00"
          ],
          [
           "2023-04-27T11:00:00+12:00"
          ],
          [
           "2023-04-27T12:00:00+12:00"
          ],
          [
           "2023-04-27T13:00:00+12:00"
          ],
          [
           "2023-04-27T14:00:00+12:00"
          ],
          [
           "2023-04-27T15:00:00+12:00"
          ],
          [
           "2023-04-27T16:00:00+12:00"
          ],
          [
           "2023-04-27T17:00:00+12:00"
          ],
          [
           "2023-04-27T18:00:00+12:00"
          ],
          [
           "2023-04-27T19:00:00+12:00"
          ],
          [
           "2023-04-27T20:00:00+12:00"
          ],
          [
           "2023-04-27T21:00:00+12:00"
          ],
          [
           "2023-04-27T22:00:00+12:00"
          ],
          [
           "2023-04-27T23:00:00+12:00"
          ],
          [
           "2024-04-27T00:00:00+12:00"
          ],
          [
           "2024-04-27T01:00:00+12:00"
          ],
          [
           "2024-04-27T02:00:00+12:00"
          ],
          [
           "2024-04-27T03:00:00+12:00"
          ],
          [
           "2024-04-27T04:00:00+12:00"
          ],
          [
           "2024-04-27T05:00:00+12:00"
          ],
          [
           "2024-04-27T06:00:00+12:00"
          ],
          [
           "2024-04-27T07:00:00+12:00"
          ],
          [
           "2024-04-27T08:00:00+12:00"
          ],
          [
           "2024-04-27T09:00:00+12:00"
          ],
          [
           "2024-04-27T10:00:00+12:00"
          ],
          [
           "2024-04-27T11:00:00+12:00"
          ],
          [
           "2024-04-27T12:00:00+12:00"
          ],
          [
           "2024-04-27T13:00:00+12:00"
          ],
          [
           "2024-04-27T14:00:00+12:00"
          ],
          [
           "2024-04-27T15:00:00+12:00"
          ],
          [
           "2024-04-27T16:00:00+12:00"
          ],
          [
           "2024-04-27T17:00:00+12:00"
          ],
          [
           "2024-04-27T18:00:00+12:00"
          ],
          [
           "2024-04-27T19:00:00+12:00"
          ],
          [
           "2024-04-27T20:00:00+12:00"
          ],
          [
           "2024-04-27T21:00:00+12:00"
          ],
          [
           "2024-04-27T22:00:00+12:00"
          ],
          [
           "2024-04-27T23:00:00+12:00"
          ]
         ],
         "hovertemplate": "Year=%{x}<br>PM10 Concentration=%{y}<br>Timestamp=%{customdata[0]}<extra></extra>",
         "legendgroup": "",
         "marker": {
          "color": "#636efa",
          "line": {
           "color": "DarkSlateGrey",
           "width": 2
          },
          "size": 8,
          "symbol": "circle"
         },
         "mode": "markers",
         "name": "",
         "orientation": "v",
         "showlegend": false,
         "type": "scatter",
         "x": [
          2006,
          2006,
          2006,
          2006,
          2006,
          2006,
          2006,
          2006,
          2006,
          2006,
          2006,
          2006,
          2006,
          2006,
          2006,
          2006,
          2006,
          2006,
          2006,
          2006,
          2006,
          2006,
          2007,
          2007,
          2007,
          2007,
          2007,
          2007,
          2007,
          2007,
          2007,
          2007,
          2007,
          2007,
          2007,
          2007,
          2007,
          2007,
          2007,
          2007,
          2007,
          2007,
          2007,
          2007,
          2008,
          2008,
          2008,
          2008,
          2008,
          2008,
          2008,
          2008,
          2008,
          2008,
          2008,
          2008,
          2008,
          2008,
          2008,
          2008,
          2008,
          2008,
          2008,
          2008,
          2008,
          2008,
          2008,
          2008,
          2009,
          2009,
          2009,
          2009,
          2009,
          2009,
          2009,
          2009,
          2009,
          2009,
          2009,
          2009,
          2009,
          2009,
          2009,
          2009,
          2009,
          2009,
          2009,
          2009,
          2009,
          2010,
          2010,
          2010,
          2010,
          2010,
          2010,
          2010,
          2010,
          2010,
          2010,
          2010,
          2010,
          2010,
          2010,
          2010,
          2010,
          2010,
          2010,
          2010,
          2010,
          2010,
          2010,
          2010,
          2010,
          2011,
          2011,
          2011,
          2011,
          2011,
          2011,
          2011,
          2011,
          2011,
          2011,
          2011,
          2011,
          2011,
          2011,
          2011,
          2011,
          2011,
          2011,
          2011,
          2011,
          2011,
          2011,
          2011,
          2011,
          2012,
          2012,
          2012,
          2012,
          2012,
          2012,
          2012,
          2012,
          2012,
          2012,
          2012,
          2012,
          2012,
          2012,
          2012,
          2012,
          2012,
          2012,
          2012,
          2012,
          2012,
          2012,
          2012,
          2013,
          2013,
          2013,
          2013,
          2013,
          2013,
          2013,
          2013,
          2013,
          2013,
          2013,
          2013,
          2013,
          2013,
          2013,
          2013,
          2013,
          2013,
          2013,
          2013,
          2013,
          2013,
          2013,
          2014,
          2014,
          2014,
          2014,
          2014,
          2014,
          2014,
          2014,
          2014,
          2014,
          2014,
          2014,
          2014,
          2014,
          2014,
          2014,
          2014,
          2014,
          2014,
          2014,
          2014,
          2014,
          2014,
          2014,
          2015,
          2015,
          2015,
          2015,
          2015,
          2015,
          2015,
          2015,
          2015,
          2015,
          2015,
          2015,
          2015,
          2015,
          2015,
          2015,
          2015,
          2015,
          2015,
          2015,
          2015,
          2015,
          2015,
          2015,
          2016,
          2016,
          2016,
          2016,
          2016,
          2016,
          2016,
          2016,
          2016,
          2016,
          2016,
          2016,
          2016,
          2016,
          2016,
          2016,
          2016,
          2016,
          2016,
          2016,
          2016,
          2016,
          2016,
          2017,
          2017,
          2017,
          2017,
          2017,
          2017,
          2017,
          2017,
          2017,
          2017,
          2017,
          2017,
          2017,
          2017,
          2017,
          2017,
          2017,
          2017,
          2017,
          2017,
          2017,
          2017,
          2017,
          2017,
          2018,
          2018,
          2018,
          2018,
          2018,
          2018,
          2018,
          2018,
          2018,
          2018,
          2018,
          2018,
          2018,
          2018,
          2018,
          2018,
          2018,
          2018,
          2018,
          2018,
          2018,
          2018,
          2018,
          2018,
          2019,
          2019,
          2019,
          2019,
          2019,
          2019,
          2019,
          2019,
          2019,
          2019,
          2019,
          2019,
          2019,
          2019,
          2019,
          2019,
          2019,
          2019,
          2019,
          2019,
          2019,
          2019,
          2019,
          2019,
          2020,
          2020,
          2020,
          2020,
          2020,
          2020,
          2020,
          2020,
          2020,
          2020,
          2020,
          2020,
          2020,
          2020,
          2020,
          2020,
          2020,
          2020,
          2020,
          2020,
          2020,
          2020,
          2020,
          2020,
          2021,
          2021,
          2021,
          2021,
          2021,
          2021,
          2021,
          2021,
          2021,
          2021,
          2021,
          2021,
          2021,
          2021,
          2021,
          2021,
          2021,
          2021,
          2021,
          2021,
          2021,
          2021,
          2021,
          2021,
          2022,
          2022,
          2022,
          2022,
          2022,
          2022,
          2022,
          2022,
          2022,
          2022,
          2022,
          2022,
          2022,
          2022,
          2022,
          2022,
          2022,
          2022,
          2022,
          2022,
          2022,
          2022,
          2022,
          2022,
          2023,
          2023,
          2023,
          2023,
          2023,
          2023,
          2023,
          2023,
          2023,
          2023,
          2023,
          2023,
          2023,
          2023,
          2023,
          2023,
          2023,
          2023,
          2023,
          2023,
          2023,
          2023,
          2023,
          2023,
          2024,
          2024,
          2024,
          2024,
          2024,
          2024,
          2024,
          2024,
          2024,
          2024,
          2024,
          2024,
          2024,
          2024,
          2024,
          2024,
          2024,
          2024,
          2024,
          2024,
          2024,
          2024,
          2024,
          2024
         ],
         "xaxis": "x",
         "y": [
          20.9,
          21.4,
          16.6,
          12.5,
          11.5,
          15,
          15.1,
          25.6,
          4.3,
          10.4,
          11.1,
          13.9,
          12.2,
          20,
          14.3,
          18,
          7.8,
          19.4,
          14.6,
          16.6,
          12.9,
          9.1,
          26.9,
          31.9,
          25.2,
          21.9,
          19.5,
          14.6,
          20.9,
          32.3,
          26.4,
          13.2,
          5.6,
          5.4,
          8.2,
          5,
          10.5,
          13.7,
          10.3,
          11.2,
          5.7,
          1.3,
          10.4,
          5.3,
          32.8,
          23,
          18.1,
          8.1,
          12.2,
          10.2,
          5.3,
          9.5,
          11.4,
          7.8,
          10.9,
          10.3,
          12.2,
          10,
          6.5,
          6.2,
          5.6,
          18.8,
          9.3,
          9.5,
          15.5,
          9.1,
          15.2,
          14.2,
          26.6,
          19.7,
          21.7,
          22.3,
          25,
          28,
          24.7,
          23.6,
          19.9,
          16.5,
          23,
          28.1,
          26.8,
          31.1,
          28.7,
          32.5,
          28.5,
          24.4,
          29.8,
          23,
          24.1,
          14.8,
          25.3,
          22.7,
          20.2,
          22.5,
          23.8,
          20.2,
          22.1,
          19.9,
          23.6,
          24.5,
          20.9,
          25.8,
          25.5,
          27.2,
          18.4,
          8.3,
          15.9,
          21,
          10.3,
          8.4,
          5.8,
          3.3,
          8.6,
          6.3,
          15.4,
          7.8,
          6.8,
          4,
          7.8,
          5.7,
          11.5,
          8.7,
          18.1,
          11.8,
          15,
          8.8,
          9,
          8.7,
          5.9,
          8.6,
          5.4,
          11.9,
          15.3,
          17.3,
          22.2,
          15.5,
          15.9,
          19.3,
          26.3,
          23.7,
          19.5,
          24.4,
          17.2,
          23.8,
          22.6,
          22.2,
          15.9,
          5.7,
          9,
          15,
          25.1,
          31.9,
          30.8,
          28.9,
          25.3,
          7,
          10.8,
          -1.3,
          12,
          13.6,
          12.8,
          9.3,
          15.8,
          13.6,
          21.2,
          24.3,
          20.4,
          22,
          24.5,
          25.6,
          25.3,
          31.6,
          22.9,
          16.2,
          27.6,
          28.1,
          27.4,
          27.3,
          16.3,
          21,
          14.8,
          19.5,
          21.7,
          23.3,
          29.5,
          20.3,
          17.8,
          15.9,
          15.6,
          13.5,
          13.5,
          13.1,
          11.3,
          15.2,
          18.3,
          17.2,
          14.6,
          8.2,
          18.4,
          15.2,
          15,
          12.8,
          13.6,
          11.6,
          17.3,
          10.2,
          7.6,
          14.1,
          18.2,
          18.8,
          19.2,
          18.7,
          20.8,
          18,
          20.4,
          25.3,
          26,
          23.2,
          25.4,
          28.3,
          24.5,
          23.2,
          12.3,
          4,
          7.7,
          12.3,
          12,
          14.3,
          19.9,
          15.9,
          18.5,
          16.3,
          2.2,
          17.8,
          19.5,
          18.3,
          14.1,
          17.6,
          20,
          25.1,
          30.6,
          30.7,
          14.7,
          23.1,
          16.6,
          12.1,
          21.3,
          13.2,
          20.5,
          18,
          17,
          25.7,
          17.2,
          17.9,
          12.8,
          12.8,
          12.8,
          12.8,
          12.8,
          12.8,
          12.8,
          12.8,
          12.8,
          12.8,
          12.8,
          12.8,
          12.8,
          12.8,
          12.8,
          12.8,
          12.8,
          12.8,
          12.8,
          12.8,
          12.8,
          12.8,
          12.8,
          12.8,
          15.1,
          16,
          14.9,
          13.5,
          13.3,
          15.5,
          17.5,
          19,
          22.2,
          25.8,
          14.6,
          5.9,
          8.1,
          13.8,
          23.4,
          6.2,
          10.5,
          15.6,
          12.4,
          16.3,
          12.7,
          14.8,
          15.4,
          8.9,
          9.3,
          3.8,
          11.1,
          11.5,
          8.1,
          7.3,
          7.4,
          7,
          5.5,
          5.6,
          6.9,
          -1.5,
          10,
          12.3,
          3.4,
          9.7,
          15.1,
          16.9,
          13,
          14.4,
          11.3,
          10.7,
          16.8,
          12,
          13.4,
          14.4,
          11.2,
          10.9,
          5.9,
          6.5,
          9.6,
          10.5,
          6.6,
          3.2,
          -0.1,
          9,
          4.5,
          7.6,
          11.6,
          12.5,
          11.5,
          16,
          20.2,
          20.7,
          15.7,
          18.7,
          13.2,
          12.8,
          14.7,
          5.7,
          7.8,
          4.9,
          9.4,
          3.8,
          5.7,
          14.2,
          9.6,
          -0.3,
          9.1,
          21.8,
          0.7,
          16.2,
          17.8,
          5.5,
          15.4,
          15.9,
          14.4,
          12.8,
          18.9,
          14.1,
          12,
          11.2,
          5,
          11.7,
          9.6,
          8.6,
          2.8,
          9.3,
          17.6,
          15.9,
          17.6,
          14.7,
          23.3,
          19.7,
          22.2,
          25.9,
          11,
          12.7,
          15.9,
          17.8,
          16.7,
          18.9,
          15.1,
          19.1,
          15.5,
          17.5,
          22.1,
          16.4,
          13.8,
          19.7,
          10.4,
          15.6,
          12.9,
          15.5,
          18.5,
          16,
          29.8,
          19.9,
          25.3,
          20.9,
          15.8,
          15.1,
          22.7,
          15.4,
          29.2,
          21,
          26.3,
          27.2,
          26.3,
          26,
          16.1,
          14.8,
          10.3,
          8.8,
          13.8,
          12.8,
          12.9,
          10.4,
          11.6,
          12.8,
          5.3,
          7.4,
          7.2,
          11.4,
          10.1,
          13.3,
          15.6,
          5.9,
          11.2,
          14.7,
          10.2,
          8.2,
          10.2,
          9.9
         ],
         "yaxis": "y"
        }
       ],
       "layout": {
        "legend": {
         "tracegroupgap": 0
        },
        "template": {
         "data": {
          "bar": [
           {
            "error_x": {
             "color": "#2a3f5f"
            },
            "error_y": {
             "color": "#2a3f5f"
            },
            "marker": {
             "line": {
              "color": "#E5ECF6",
              "width": 0.5
             },
             "pattern": {
              "fillmode": "overlay",
              "size": 10,
              "solidity": 0.2
             }
            },
            "type": "bar"
           }
          ],
          "barpolar": [
           {
            "marker": {
             "line": {
              "color": "#E5ECF6",
              "width": 0.5
             },
             "pattern": {
              "fillmode": "overlay",
              "size": 10,
              "solidity": 0.2
             }
            },
            "type": "barpolar"
           }
          ],
          "carpet": [
           {
            "aaxis": {
             "endlinecolor": "#2a3f5f",
             "gridcolor": "white",
             "linecolor": "white",
             "minorgridcolor": "white",
             "startlinecolor": "#2a3f5f"
            },
            "baxis": {
             "endlinecolor": "#2a3f5f",
             "gridcolor": "white",
             "linecolor": "white",
             "minorgridcolor": "white",
             "startlinecolor": "#2a3f5f"
            },
            "type": "carpet"
           }
          ],
          "choropleth": [
           {
            "colorbar": {
             "outlinewidth": 0,
             "ticks": ""
            },
            "type": "choropleth"
           }
          ],
          "contour": [
           {
            "colorbar": {
             "outlinewidth": 0,
             "ticks": ""
            },
            "colorscale": [
             [
              0,
              "#0d0887"
             ],
             [
              0.1111111111111111,
              "#46039f"
             ],
             [
              0.2222222222222222,
              "#7201a8"
             ],
             [
              0.3333333333333333,
              "#9c179e"
             ],
             [
              0.4444444444444444,
              "#bd3786"
             ],
             [
              0.5555555555555556,
              "#d8576b"
             ],
             [
              0.6666666666666666,
              "#ed7953"
             ],
             [
              0.7777777777777778,
              "#fb9f3a"
             ],
             [
              0.8888888888888888,
              "#fdca26"
             ],
             [
              1,
              "#f0f921"
             ]
            ],
            "type": "contour"
           }
          ],
          "contourcarpet": [
           {
            "colorbar": {
             "outlinewidth": 0,
             "ticks": ""
            },
            "type": "contourcarpet"
           }
          ],
          "heatmap": [
           {
            "colorbar": {
             "outlinewidth": 0,
             "ticks": ""
            },
            "colorscale": [
             [
              0,
              "#0d0887"
             ],
             [
              0.1111111111111111,
              "#46039f"
             ],
             [
              0.2222222222222222,
              "#7201a8"
             ],
             [
              0.3333333333333333,
              "#9c179e"
             ],
             [
              0.4444444444444444,
              "#bd3786"
             ],
             [
              0.5555555555555556,
              "#d8576b"
             ],
             [
              0.6666666666666666,
              "#ed7953"
             ],
             [
              0.7777777777777778,
              "#fb9f3a"
             ],
             [
              0.8888888888888888,
              "#fdca26"
             ],
             [
              1,
              "#f0f921"
             ]
            ],
            "type": "heatmap"
           }
          ],
          "heatmapgl": [
           {
            "colorbar": {
             "outlinewidth": 0,
             "ticks": ""
            },
            "colorscale": [
             [
              0,
              "#0d0887"
             ],
             [
              0.1111111111111111,
              "#46039f"
             ],
             [
              0.2222222222222222,
              "#7201a8"
             ],
             [
              0.3333333333333333,
              "#9c179e"
             ],
             [
              0.4444444444444444,
              "#bd3786"
             ],
             [
              0.5555555555555556,
              "#d8576b"
             ],
             [
              0.6666666666666666,
              "#ed7953"
             ],
             [
              0.7777777777777778,
              "#fb9f3a"
             ],
             [
              0.8888888888888888,
              "#fdca26"
             ],
             [
              1,
              "#f0f921"
             ]
            ],
            "type": "heatmapgl"
           }
          ],
          "histogram": [
           {
            "marker": {
             "pattern": {
              "fillmode": "overlay",
              "size": 10,
              "solidity": 0.2
             }
            },
            "type": "histogram"
           }
          ],
          "histogram2d": [
           {
            "colorbar": {
             "outlinewidth": 0,
             "ticks": ""
            },
            "colorscale": [
             [
              0,
              "#0d0887"
             ],
             [
              0.1111111111111111,
              "#46039f"
             ],
             [
              0.2222222222222222,
              "#7201a8"
             ],
             [
              0.3333333333333333,
              "#9c179e"
             ],
             [
              0.4444444444444444,
              "#bd3786"
             ],
             [
              0.5555555555555556,
              "#d8576b"
             ],
             [
              0.6666666666666666,
              "#ed7953"
             ],
             [
              0.7777777777777778,
              "#fb9f3a"
             ],
             [
              0.8888888888888888,
              "#fdca26"
             ],
             [
              1,
              "#f0f921"
             ]
            ],
            "type": "histogram2d"
           }
          ],
          "histogram2dcontour": [
           {
            "colorbar": {
             "outlinewidth": 0,
             "ticks": ""
            },
            "colorscale": [
             [
              0,
              "#0d0887"
             ],
             [
              0.1111111111111111,
              "#46039f"
             ],
             [
              0.2222222222222222,
              "#7201a8"
             ],
             [
              0.3333333333333333,
              "#9c179e"
             ],
             [
              0.4444444444444444,
              "#bd3786"
             ],
             [
              0.5555555555555556,
              "#d8576b"
             ],
             [
              0.6666666666666666,
              "#ed7953"
             ],
             [
              0.7777777777777778,
              "#fb9f3a"
             ],
             [
              0.8888888888888888,
              "#fdca26"
             ],
             [
              1,
              "#f0f921"
             ]
            ],
            "type": "histogram2dcontour"
           }
          ],
          "mesh3d": [
           {
            "colorbar": {
             "outlinewidth": 0,
             "ticks": ""
            },
            "type": "mesh3d"
           }
          ],
          "parcoords": [
           {
            "line": {
             "colorbar": {
              "outlinewidth": 0,
              "ticks": ""
             }
            },
            "type": "parcoords"
           }
          ],
          "pie": [
           {
            "automargin": true,
            "type": "pie"
           }
          ],
          "scatter": [
           {
            "fillpattern": {
             "fillmode": "overlay",
             "size": 10,
             "solidity": 0.2
            },
            "type": "scatter"
           }
          ],
          "scatter3d": [
           {
            "line": {
             "colorbar": {
              "outlinewidth": 0,
              "ticks": ""
             }
            },
            "marker": {
             "colorbar": {
              "outlinewidth": 0,
              "ticks": ""
             }
            },
            "type": "scatter3d"
           }
          ],
          "scattercarpet": [
           {
            "marker": {
             "colorbar": {
              "outlinewidth": 0,
              "ticks": ""
             }
            },
            "type": "scattercarpet"
           }
          ],
          "scattergeo": [
           {
            "marker": {
             "colorbar": {
              "outlinewidth": 0,
              "ticks": ""
             }
            },
            "type": "scattergeo"
           }
          ],
          "scattergl": [
           {
            "marker": {
             "colorbar": {
              "outlinewidth": 0,
              "ticks": ""
             }
            },
            "type": "scattergl"
           }
          ],
          "scattermapbox": [
           {
            "marker": {
             "colorbar": {
              "outlinewidth": 0,
              "ticks": ""
             }
            },
            "type": "scattermapbox"
           }
          ],
          "scatterpolar": [
           {
            "marker": {
             "colorbar": {
              "outlinewidth": 0,
              "ticks": ""
             }
            },
            "type": "scatterpolar"
           }
          ],
          "scatterpolargl": [
           {
            "marker": {
             "colorbar": {
              "outlinewidth": 0,
              "ticks": ""
             }
            },
            "type": "scatterpolargl"
           }
          ],
          "scatterternary": [
           {
            "marker": {
             "colorbar": {
              "outlinewidth": 0,
              "ticks": ""
             }
            },
            "type": "scatterternary"
           }
          ],
          "surface": [
           {
            "colorbar": {
             "outlinewidth": 0,
             "ticks": ""
            },
            "colorscale": [
             [
              0,
              "#0d0887"
             ],
             [
              0.1111111111111111,
              "#46039f"
             ],
             [
              0.2222222222222222,
              "#7201a8"
             ],
             [
              0.3333333333333333,
              "#9c179e"
             ],
             [
              0.4444444444444444,
              "#bd3786"
             ],
             [
              0.5555555555555556,
              "#d8576b"
             ],
             [
              0.6666666666666666,
              "#ed7953"
             ],
             [
              0.7777777777777778,
              "#fb9f3a"
             ],
             [
              0.8888888888888888,
              "#fdca26"
             ],
             [
              1,
              "#f0f921"
             ]
            ],
            "type": "surface"
           }
          ],
          "table": [
           {
            "cells": {
             "fill": {
              "color": "#EBF0F8"
             },
             "line": {
              "color": "white"
             }
            },
            "header": {
             "fill": {
              "color": "#C8D4E3"
             },
             "line": {
              "color": "white"
             }
            },
            "type": "table"
           }
          ]
         },
         "layout": {
          "annotationdefaults": {
           "arrowcolor": "#2a3f5f",
           "arrowhead": 0,
           "arrowwidth": 1
          },
          "autotypenumbers": "strict",
          "coloraxis": {
           "colorbar": {
            "outlinewidth": 0,
            "ticks": ""
           }
          },
          "colorscale": {
           "diverging": [
            [
             0,
             "#8e0152"
            ],
            [
             0.1,
             "#c51b7d"
            ],
            [
             0.2,
             "#de77ae"
            ],
            [
             0.3,
             "#f1b6da"
            ],
            [
             0.4,
             "#fde0ef"
            ],
            [
             0.5,
             "#f7f7f7"
            ],
            [
             0.6,
             "#e6f5d0"
            ],
            [
             0.7,
             "#b8e186"
            ],
            [
             0.8,
             "#7fbc41"
            ],
            [
             0.9,
             "#4d9221"
            ],
            [
             1,
             "#276419"
            ]
           ],
           "sequential": [
            [
             0,
             "#0d0887"
            ],
            [
             0.1111111111111111,
             "#46039f"
            ],
            [
             0.2222222222222222,
             "#7201a8"
            ],
            [
             0.3333333333333333,
             "#9c179e"
            ],
            [
             0.4444444444444444,
             "#bd3786"
            ],
            [
             0.5555555555555556,
             "#d8576b"
            ],
            [
             0.6666666666666666,
             "#ed7953"
            ],
            [
             0.7777777777777778,
             "#fb9f3a"
            ],
            [
             0.8888888888888888,
             "#fdca26"
            ],
            [
             1,
             "#f0f921"
            ]
           ],
           "sequentialminus": [
            [
             0,
             "#0d0887"
            ],
            [
             0.1111111111111111,
             "#46039f"
            ],
            [
             0.2222222222222222,
             "#7201a8"
            ],
            [
             0.3333333333333333,
             "#9c179e"
            ],
            [
             0.4444444444444444,
             "#bd3786"
            ],
            [
             0.5555555555555556,
             "#d8576b"
            ],
            [
             0.6666666666666666,
             "#ed7953"
            ],
            [
             0.7777777777777778,
             "#fb9f3a"
            ],
            [
             0.8888888888888888,
             "#fdca26"
            ],
            [
             1,
             "#f0f921"
            ]
           ]
          },
          "colorway": [
           "#636efa",
           "#EF553B",
           "#00cc96",
           "#ab63fa",
           "#FFA15A",
           "#19d3f3",
           "#FF6692",
           "#B6E880",
           "#FF97FF",
           "#FECB52"
          ],
          "font": {
           "color": "#2a3f5f"
          },
          "geo": {
           "bgcolor": "white",
           "lakecolor": "white",
           "landcolor": "#E5ECF6",
           "showlakes": true,
           "showland": true,
           "subunitcolor": "white"
          },
          "hoverlabel": {
           "align": "left"
          },
          "hovermode": "closest",
          "mapbox": {
           "style": "light"
          },
          "paper_bgcolor": "white",
          "plot_bgcolor": "#E5ECF6",
          "polar": {
           "angularaxis": {
            "gridcolor": "white",
            "linecolor": "white",
            "ticks": ""
           },
           "bgcolor": "#E5ECF6",
           "radialaxis": {
            "gridcolor": "white",
            "linecolor": "white",
            "ticks": ""
           }
          },
          "scene": {
           "xaxis": {
            "backgroundcolor": "#E5ECF6",
            "gridcolor": "white",
            "gridwidth": 2,
            "linecolor": "white",
            "showbackground": true,
            "ticks": "",
            "zerolinecolor": "white"
           },
           "yaxis": {
            "backgroundcolor": "#E5ECF6",
            "gridcolor": "white",
            "gridwidth": 2,
            "linecolor": "white",
            "showbackground": true,
            "ticks": "",
            "zerolinecolor": "white"
           },
           "zaxis": {
            "backgroundcolor": "#E5ECF6",
            "gridcolor": "white",
            "gridwidth": 2,
            "linecolor": "white",
            "showbackground": true,
            "ticks": "",
            "zerolinecolor": "white"
           }
          },
          "shapedefaults": {
           "line": {
            "color": "#2a3f5f"
           }
          },
          "ternary": {
           "aaxis": {
            "gridcolor": "white",
            "linecolor": "white",
            "ticks": ""
           },
           "baxis": {
            "gridcolor": "white",
            "linecolor": "white",
            "ticks": ""
           },
           "bgcolor": "#E5ECF6",
           "caxis": {
            "gridcolor": "white",
            "linecolor": "white",
            "ticks": ""
           }
          },
          "title": {
           "x": 0.05
          },
          "xaxis": {
           "automargin": true,
           "gridcolor": "white",
           "linecolor": "white",
           "ticks": "",
           "title": {
            "standoff": 15
           },
           "zerolinecolor": "white",
           "zerolinewidth": 2
          },
          "yaxis": {
           "automargin": true,
           "gridcolor": "white",
           "linecolor": "white",
           "ticks": "",
           "title": {
            "standoff": 15
           },
           "zerolinecolor": "white",
           "zerolinewidth": 2
          }
         }
        },
        "title": {
         "text": "PM10 Levels on April 27th Across Years"
        },
        "xaxis": {
         "anchor": "y",
         "domain": [
          0,
          1
         ],
         "title": {
          "text": "Year"
         }
        },
        "yaxis": {
         "anchor": "x",
         "domain": [
          0,
          1
         ],
         "title": {
          "text": "PM10 Concentration"
         }
        }
       }
      },
      "text/html": [
       "<div>                            <div id=\"78f0a9f2-e232-4e94-b245-1d046ebe19e7\" class=\"plotly-graph-div\" style=\"height:525px; width:100%;\"></div>            <script type=\"text/javascript\">                require([\"plotly\"], function(Plotly) {                    window.PLOTLYENV=window.PLOTLYENV || {};                                    if (document.getElementById(\"78f0a9f2-e232-4e94-b245-1d046ebe19e7\")) {                    Plotly.newPlot(                        \"78f0a9f2-e232-4e94-b245-1d046ebe19e7\",                        [{\"customdata\":[[\"2006-04-27T00:00:00+12:00\"],[\"2006-04-27T01:00:00+12:00\"],[\"2006-04-27T02:00:00+12:00\"],[\"2006-04-27T03:00:00+12:00\"],[\"2006-04-27T04:00:00+12:00\"],[\"2006-04-27T05:00:00+12:00\"],[\"2006-04-27T06:00:00+12:00\"],[\"2006-04-27T07:00:00+12:00\"],[\"2006-04-27T10:00:00+12:00\"],[\"2006-04-27T11:00:00+12:00\"],[\"2006-04-27T12:00:00+12:00\"],[\"2006-04-27T13:00:00+12:00\"],[\"2006-04-27T14:00:00+12:00\"],[\"2006-04-27T15:00:00+12:00\"],[\"2006-04-27T16:00:00+12:00\"],[\"2006-04-27T17:00:00+12:00\"],[\"2006-04-27T18:00:00+12:00\"],[\"2006-04-27T19:00:00+12:00\"],[\"2006-04-27T20:00:00+12:00\"],[\"2006-04-27T21:00:00+12:00\"],[\"2006-04-27T22:00:00+12:00\"],[\"2006-04-27T23:00:00+12:00\"],[\"2007-04-27T00:00:00+12:00\"],[\"2007-04-27T01:00:00+12:00\"],[\"2007-04-27T02:00:00+12:00\"],[\"2007-04-27T03:00:00+12:00\"],[\"2007-04-27T04:00:00+12:00\"],[\"2007-04-27T05:00:00+12:00\"],[\"2007-04-27T06:00:00+12:00\"],[\"2007-04-27T07:00:00+12:00\"],[\"2007-04-27T10:00:00+12:00\"],[\"2007-04-27T11:00:00+12:00\"],[\"2007-04-27T12:00:00+12:00\"],[\"2007-04-27T13:00:00+12:00\"],[\"2007-04-27T14:00:00+12:00\"],[\"2007-04-27T15:00:00+12:00\"],[\"2007-04-27T16:00:00+12:00\"],[\"2007-04-27T17:00:00+12:00\"],[\"2007-04-27T18:00:00+12:00\"],[\"2007-04-27T19:00:00+12:00\"],[\"2007-04-27T20:00:00+12:00\"],[\"2007-04-27T21:00:00+12:00\"],[\"2007-04-27T22:00:00+12:00\"],[\"2007-04-27T23:00:00+12:00\"],[\"2008-04-27T00:00:00+12:00\"],[\"2008-04-27T01:00:00+12:00\"],[\"2008-04-27T02:00:00+12:00\"],[\"2008-04-27T03:00:00+12:00\"],[\"2008-04-27T04:00:00+12:00\"],[\"2008-04-27T05:00:00+12:00\"],[\"2008-04-27T06:00:00+12:00\"],[\"2008-04-27T07:00:00+12:00\"],[\"2008-04-27T08:00:00+12:00\"],[\"2008-04-27T09:00:00+12:00\"],[\"2008-04-27T10:00:00+12:00\"],[\"2008-04-27T11:00:00+12:00\"],[\"2008-04-27T12:00:00+12:00\"],[\"2008-04-27T13:00:00+12:00\"],[\"2008-04-27T14:00:00+12:00\"],[\"2008-04-27T15:00:00+12:00\"],[\"2008-04-27T16:00:00+12:00\"],[\"2008-04-27T17:00:00+12:00\"],[\"2008-04-27T18:00:00+12:00\"],[\"2008-04-27T19:00:00+12:00\"],[\"2008-04-27T20:00:00+12:00\"],[\"2008-04-27T21:00:00+12:00\"],[\"2008-04-27T22:00:00+12:00\"],[\"2008-04-27T23:00:00+12:00\"],[\"2009-04-27T00:00:00+12:00\"],[\"2009-04-27T01:00:00+12:00\"],[\"2009-04-27T02:00:00+12:00\"],[\"2009-04-27T03:00:00+12:00\"],[\"2009-04-27T04:00:00+12:00\"],[\"2009-04-27T05:00:00+12:00\"],[\"2009-04-27T06:00:00+12:00\"],[\"2009-04-27T07:00:00+12:00\"],[\"2009-04-27T08:00:00+12:00\"],[\"2009-04-27T09:00:00+12:00\"],[\"2009-04-27T10:00:00+12:00\"],[\"2009-04-27T11:00:00+12:00\"],[\"2009-04-27T12:00:00+12:00\"],[\"2009-04-27T14:00:00+12:00\"],[\"2009-04-27T16:00:00+12:00\"],[\"2009-04-27T18:00:00+12:00\"],[\"2009-04-27T19:00:00+12:00\"],[\"2009-04-27T20:00:00+12:00\"],[\"2009-04-27T21:00:00+12:00\"],[\"2009-04-27T22:00:00+12:00\"],[\"2009-04-27T23:00:00+12:00\"],[\"2010-04-27T00:00:00+12:00\"],[\"2010-04-27T01:00:00+12:00\"],[\"2010-04-27T02:00:00+12:00\"],[\"2010-04-27T03:00:00+12:00\"],[\"2010-04-27T04:00:00+12:00\"],[\"2010-04-27T05:00:00+12:00\"],[\"2010-04-27T06:00:00+12:00\"],[\"2010-04-27T07:00:00+12:00\"],[\"2010-04-27T08:00:00+12:00\"],[\"2010-04-27T09:00:00+12:00\"],[\"2010-04-27T10:00:00+12:00\"],[\"2010-04-27T11:00:00+12:00\"],[\"2010-04-27T12:00:00+12:00\"],[\"2010-04-27T13:00:00+12:00\"],[\"2010-04-27T14:00:00+12:00\"],[\"2010-04-27T15:00:00+12:00\"],[\"2010-04-27T16:00:00+12:00\"],[\"2010-04-27T17:00:00+12:00\"],[\"2010-04-27T18:00:00+12:00\"],[\"2010-04-27T19:00:00+12:00\"],[\"2010-04-27T20:00:00+12:00\"],[\"2010-04-27T21:00:00+12:00\"],[\"2010-04-27T22:00:00+12:00\"],[\"2010-04-27T23:00:00+12:00\"],[\"2011-04-27T00:00:00+12:00\"],[\"2011-04-27T01:00:00+12:00\"],[\"2011-04-27T02:00:00+12:00\"],[\"2011-04-27T03:00:00+12:00\"],[\"2011-04-27T04:00:00+12:00\"],[\"2011-04-27T05:00:00+12:00\"],[\"2011-04-27T06:00:00+12:00\"],[\"2011-04-27T07:00:00+12:00\"],[\"2011-04-27T08:00:00+12:00\"],[\"2011-04-27T09:00:00+12:00\"],[\"2011-04-27T10:00:00+12:00\"],[\"2011-04-27T11:00:00+12:00\"],[\"2011-04-27T12:00:00+12:00\"],[\"2011-04-27T13:00:00+12:00\"],[\"2011-04-27T14:00:00+12:00\"],[\"2011-04-27T15:00:00+12:00\"],[\"2011-04-27T16:00:00+12:00\"],[\"2011-04-27T17:00:00+12:00\"],[\"2011-04-27T18:00:00+12:00\"],[\"2011-04-27T19:00:00+12:00\"],[\"2011-04-27T20:00:00+12:00\"],[\"2011-04-27T21:00:00+12:00\"],[\"2011-04-27T22:00:00+12:00\"],[\"2011-04-27T23:00:00+12:00\"],[\"2012-04-27T00:00:00+12:00\"],[\"2012-04-27T01:00:00+12:00\"],[\"2012-04-27T02:00:00+12:00\"],[\"2012-04-27T03:00:00+12:00\"],[\"2012-04-27T04:00:00+12:00\"],[\"2012-04-27T05:00:00+12:00\"],[\"2012-04-27T06:00:00+12:00\"],[\"2012-04-27T07:00:00+12:00\"],[\"2012-04-27T08:00:00+12:00\"],[\"2012-04-27T09:00:00+12:00\"],[\"2012-04-27T10:00:00+12:00\"],[\"2012-04-27T11:00:00+12:00\"],[\"2012-04-27T12:00:00+12:00\"],[\"2012-04-27T13:00:00+12:00\"],[\"2012-04-27T14:00:00+12:00\"],[\"2012-04-27T15:00:00+12:00\"],[\"2012-04-27T17:00:00+12:00\"],[\"2012-04-27T18:00:00+12:00\"],[\"2012-04-27T19:00:00+12:00\"],[\"2012-04-27T20:00:00+12:00\"],[\"2012-04-27T21:00:00+12:00\"],[\"2012-04-27T22:00:00+12:00\"],[\"2012-04-27T23:00:00+12:00\"],[\"2013-04-27T00:00:00+12:00\"],[\"2013-04-27T01:00:00+12:00\"],[\"2013-04-27T02:00:00+12:00\"],[\"2013-04-27T03:00:00+12:00\"],[\"2013-04-27T04:00:00+12:00\"],[\"2013-04-27T05:00:00+12:00\"],[\"2013-04-27T06:00:00+12:00\"],[\"2013-04-27T07:00:00+12:00\"],[\"2013-04-27T08:00:00+12:00\"],[\"2013-04-27T09:00:00+12:00\"],[\"2013-04-27T10:00:00+12:00\"],[\"2013-04-27T11:00:00+12:00\"],[\"2013-04-27T13:00:00+12:00\"],[\"2013-04-27T14:00:00+12:00\"],[\"2013-04-27T15:00:00+12:00\"],[\"2013-04-27T16:00:00+12:00\"],[\"2013-04-27T17:00:00+12:00\"],[\"2013-04-27T18:00:00+12:00\"],[\"2013-04-27T19:00:00+12:00\"],[\"2013-04-27T20:00:00+12:00\"],[\"2013-04-27T21:00:00+12:00\"],[\"2013-04-27T22:00:00+12:00\"],[\"2013-04-27T23:00:00+12:00\"],[\"2014-04-27T00:00:00+12:00\"],[\"2014-04-27T01:00:00+12:00\"],[\"2014-04-27T02:00:00+12:00\"],[\"2014-04-27T03:00:00+12:00\"],[\"2014-04-27T04:00:00+12:00\"],[\"2014-04-27T05:00:00+12:00\"],[\"2014-04-27T06:00:00+12:00\"],[\"2014-04-27T07:00:00+12:00\"],[\"2014-04-27T08:00:00+12:00\"],[\"2014-04-27T09:00:00+12:00\"],[\"2014-04-27T10:00:00+12:00\"],[\"2014-04-27T11:00:00+12:00\"],[\"2014-04-27T12:00:00+12:00\"],[\"2014-04-27T13:00:00+12:00\"],[\"2014-04-27T14:00:00+12:00\"],[\"2014-04-27T15:00:00+12:00\"],[\"2014-04-27T16:00:00+12:00\"],[\"2014-04-27T17:00:00+12:00\"],[\"2014-04-27T18:00:00+12:00\"],[\"2014-04-27T19:00:00+12:00\"],[\"2014-04-27T20:00:00+12:00\"],[\"2014-04-27T21:00:00+12:00\"],[\"2014-04-27T22:00:00+12:00\"],[\"2014-04-27T23:00:00+12:00\"],[\"2015-04-27T00:00:00+12:00\"],[\"2015-04-27T01:00:00+12:00\"],[\"2015-04-27T02:00:00+12:00\"],[\"2015-04-27T03:00:00+12:00\"],[\"2015-04-27T04:00:00+12:00\"],[\"2015-04-27T05:00:00+12:00\"],[\"2015-04-27T06:00:00+12:00\"],[\"2015-04-27T07:00:00+12:00\"],[\"2015-04-27T08:00:00+12:00\"],[\"2015-04-27T09:00:00+12:00\"],[\"2015-04-27T10:00:00+12:00\"],[\"2015-04-27T11:00:00+12:00\"],[\"2015-04-27T12:00:00+12:00\"],[\"2015-04-27T13:00:00+12:00\"],[\"2015-04-27T14:00:00+12:00\"],[\"2015-04-27T15:00:00+12:00\"],[\"2015-04-27T16:00:00+12:00\"],[\"2015-04-27T17:00:00+12:00\"],[\"2015-04-27T18:00:00+12:00\"],[\"2015-04-27T19:00:00+12:00\"],[\"2015-04-27T20:00:00+12:00\"],[\"2015-04-27T21:00:00+12:00\"],[\"2015-04-27T22:00:00+12:00\"],[\"2015-04-27T23:00:00+12:00\"],[\"2016-04-27T00:00:00+12:00\"],[\"2016-04-27T01:00:00+12:00\"],[\"2016-04-27T02:00:00+12:00\"],[\"2016-04-27T03:00:00+12:00\"],[\"2016-04-27T04:00:00+12:00\"],[\"2016-04-27T05:00:00+12:00\"],[\"2016-04-27T06:00:00+12:00\"],[\"2016-04-27T07:00:00+12:00\"],[\"2016-04-27T08:00:00+12:00\"],[\"2016-04-27T10:00:00+12:00\"],[\"2016-04-27T11:00:00+12:00\"],[\"2016-04-27T12:00:00+12:00\"],[\"2016-04-27T13:00:00+12:00\"],[\"2016-04-27T14:00:00+12:00\"],[\"2016-04-27T15:00:00+12:00\"],[\"2016-04-27T16:00:00+12:00\"],[\"2016-04-27T17:00:00+12:00\"],[\"2016-04-27T18:00:00+12:00\"],[\"2016-04-27T19:00:00+12:00\"],[\"2016-04-27T20:00:00+12:00\"],[\"2016-04-27T21:00:00+12:00\"],[\"2016-04-27T22:00:00+12:00\"],[\"2016-04-27T23:00:00+12:00\"],[\"2017-04-27T00:00:00+12:00\"],[\"2017-04-27T01:00:00+12:00\"],[\"2017-04-27T02:00:00+12:00\"],[\"2017-04-27T03:00:00+12:00\"],[\"2017-04-27T04:00:00+12:00\"],[\"2017-04-27T05:00:00+12:00\"],[\"2017-04-27T06:00:00+12:00\"],[\"2017-04-27T07:00:00+12:00\"],[\"2017-04-27T08:00:00+12:00\"],[\"2017-04-27T09:00:00+12:00\"],[\"2017-04-27T10:00:00+12:00\"],[\"2017-04-27T11:00:00+12:00\"],[\"2017-04-27T12:00:00+12:00\"],[\"2017-04-27T13:00:00+12:00\"],[\"2017-04-27T14:00:00+12:00\"],[\"2017-04-27T15:00:00+12:00\"],[\"2017-04-27T16:00:00+12:00\"],[\"2017-04-27T17:00:00+12:00\"],[\"2017-04-27T18:00:00+12:00\"],[\"2017-04-27T19:00:00+12:00\"],[\"2017-04-27T20:00:00+12:00\"],[\"2017-04-27T21:00:00+12:00\"],[\"2017-04-27T22:00:00+12:00\"],[\"2017-04-27T23:00:00+12:00\"],[\"2018-04-27T00:00:00+12:00\"],[\"2018-04-27T01:00:00+12:00\"],[\"2018-04-27T02:00:00+12:00\"],[\"2018-04-27T03:00:00+12:00\"],[\"2018-04-27T04:00:00+12:00\"],[\"2018-04-27T05:00:00+12:00\"],[\"2018-04-27T06:00:00+12:00\"],[\"2018-04-27T07:00:00+12:00\"],[\"2018-04-27T08:00:00+12:00\"],[\"2018-04-27T09:00:00+12:00\"],[\"2018-04-27T10:00:00+12:00\"],[\"2018-04-27T11:00:00+12:00\"],[\"2018-04-27T12:00:00+12:00\"],[\"2018-04-27T13:00:00+12:00\"],[\"2018-04-27T14:00:00+12:00\"],[\"2018-04-27T15:00:00+12:00\"],[\"2018-04-27T16:00:00+12:00\"],[\"2018-04-27T17:00:00+12:00\"],[\"2018-04-27T18:00:00+12:00\"],[\"2018-04-27T19:00:00+12:00\"],[\"2018-04-27T20:00:00+12:00\"],[\"2018-04-27T21:00:00+12:00\"],[\"2018-04-27T22:00:00+12:00\"],[\"2018-04-27T23:00:00+12:00\"],[\"2019-04-27T00:00:00+12:00\"],[\"2019-04-27T01:00:00+12:00\"],[\"2019-04-27T02:00:00+12:00\"],[\"2019-04-27T03:00:00+12:00\"],[\"2019-04-27T04:00:00+12:00\"],[\"2019-04-27T05:00:00+12:00\"],[\"2019-04-27T06:00:00+12:00\"],[\"2019-04-27T07:00:00+12:00\"],[\"2019-04-27T08:00:00+12:00\"],[\"2019-04-27T09:00:00+12:00\"],[\"2019-04-27T10:00:00+12:00\"],[\"2019-04-27T11:00:00+12:00\"],[\"2019-04-27T12:00:00+12:00\"],[\"2019-04-27T13:00:00+12:00\"],[\"2019-04-27T14:00:00+12:00\"],[\"2019-04-27T15:00:00+12:00\"],[\"2019-04-27T16:00:00+12:00\"],[\"2019-04-27T17:00:00+12:00\"],[\"2019-04-27T18:00:00+12:00\"],[\"2019-04-27T19:00:00+12:00\"],[\"2019-04-27T20:00:00+12:00\"],[\"2019-04-27T21:00:00+12:00\"],[\"2019-04-27T22:00:00+12:00\"],[\"2019-04-27T23:00:00+12:00\"],[\"2020-04-27T00:00:00+12:00\"],[\"2020-04-27T01:00:00+12:00\"],[\"2020-04-27T02:00:00+12:00\"],[\"2020-04-27T03:00:00+12:00\"],[\"2020-04-27T04:00:00+12:00\"],[\"2020-04-27T05:00:00+12:00\"],[\"2020-04-27T06:00:00+12:00\"],[\"2020-04-27T07:00:00+12:00\"],[\"2020-04-27T08:00:00+12:00\"],[\"2020-04-27T09:00:00+12:00\"],[\"2020-04-27T10:00:00+12:00\"],[\"2020-04-27T11:00:00+12:00\"],[\"2020-04-27T12:00:00+12:00\"],[\"2020-04-27T13:00:00+12:00\"],[\"2020-04-27T14:00:00+12:00\"],[\"2020-04-27T15:00:00+12:00\"],[\"2020-04-27T16:00:00+12:00\"],[\"2020-04-27T17:00:00+12:00\"],[\"2020-04-27T18:00:00+12:00\"],[\"2020-04-27T19:00:00+12:00\"],[\"2020-04-27T20:00:00+12:00\"],[\"2020-04-27T21:00:00+12:00\"],[\"2020-04-27T22:00:00+12:00\"],[\"2020-04-27T23:00:00+12:00\"],[\"2021-04-27T00:00:00+12:00\"],[\"2021-04-27T01:00:00+12:00\"],[\"2021-04-27T02:00:00+12:00\"],[\"2021-04-27T03:00:00+12:00\"],[\"2021-04-27T04:00:00+12:00\"],[\"2021-04-27T05:00:00+12:00\"],[\"2021-04-27T06:00:00+12:00\"],[\"2021-04-27T07:00:00+12:00\"],[\"2021-04-27T08:00:00+12:00\"],[\"2021-04-27T09:00:00+12:00\"],[\"2021-04-27T10:00:00+12:00\"],[\"2021-04-27T11:00:00+12:00\"],[\"2021-04-27T12:00:00+12:00\"],[\"2021-04-27T13:00:00+12:00\"],[\"2021-04-27T14:00:00+12:00\"],[\"2021-04-27T15:00:00+12:00\"],[\"2021-04-27T16:00:00+12:00\"],[\"2021-04-27T17:00:00+12:00\"],[\"2021-04-27T18:00:00+12:00\"],[\"2021-04-27T19:00:00+12:00\"],[\"2021-04-27T20:00:00+12:00\"],[\"2021-04-27T21:00:00+12:00\"],[\"2021-04-27T22:00:00+12:00\"],[\"2021-04-27T23:00:00+12:00\"],[\"2022-04-27T00:00:00+12:00\"],[\"2022-04-27T01:00:00+12:00\"],[\"2022-04-27T02:00:00+12:00\"],[\"2022-04-27T03:00:00+12:00\"],[\"2022-04-27T04:00:00+12:00\"],[\"2022-04-27T05:00:00+12:00\"],[\"2022-04-27T06:00:00+12:00\"],[\"2022-04-27T07:00:00+12:00\"],[\"2022-04-27T08:00:00+12:00\"],[\"2022-04-27T09:00:00+12:00\"],[\"2022-04-27T10:00:00+12:00\"],[\"2022-04-27T11:00:00+12:00\"],[\"2022-04-27T12:00:00+12:00\"],[\"2022-04-27T13:00:00+12:00\"],[\"2022-04-27T14:00:00+12:00\"],[\"2022-04-27T15:00:00+12:00\"],[\"2022-04-27T16:00:00+12:00\"],[\"2022-04-27T17:00:00+12:00\"],[\"2022-04-27T18:00:00+12:00\"],[\"2022-04-27T19:00:00+12:00\"],[\"2022-04-27T20:00:00+12:00\"],[\"2022-04-27T21:00:00+12:00\"],[\"2022-04-27T22:00:00+12:00\"],[\"2022-04-27T23:00:00+12:00\"],[\"2023-04-27T00:00:00+12:00\"],[\"2023-04-27T01:00:00+12:00\"],[\"2023-04-27T02:00:00+12:00\"],[\"2023-04-27T03:00:00+12:00\"],[\"2023-04-27T04:00:00+12:00\"],[\"2023-04-27T05:00:00+12:00\"],[\"2023-04-27T06:00:00+12:00\"],[\"2023-04-27T07:00:00+12:00\"],[\"2023-04-27T08:00:00+12:00\"],[\"2023-04-27T09:00:00+12:00\"],[\"2023-04-27T10:00:00+12:00\"],[\"2023-04-27T11:00:00+12:00\"],[\"2023-04-27T12:00:00+12:00\"],[\"2023-04-27T13:00:00+12:00\"],[\"2023-04-27T14:00:00+12:00\"],[\"2023-04-27T15:00:00+12:00\"],[\"2023-04-27T16:00:00+12:00\"],[\"2023-04-27T17:00:00+12:00\"],[\"2023-04-27T18:00:00+12:00\"],[\"2023-04-27T19:00:00+12:00\"],[\"2023-04-27T20:00:00+12:00\"],[\"2023-04-27T21:00:00+12:00\"],[\"2023-04-27T22:00:00+12:00\"],[\"2023-04-27T23:00:00+12:00\"],[\"2024-04-27T00:00:00+12:00\"],[\"2024-04-27T01:00:00+12:00\"],[\"2024-04-27T02:00:00+12:00\"],[\"2024-04-27T03:00:00+12:00\"],[\"2024-04-27T04:00:00+12:00\"],[\"2024-04-27T05:00:00+12:00\"],[\"2024-04-27T06:00:00+12:00\"],[\"2024-04-27T07:00:00+12:00\"],[\"2024-04-27T08:00:00+12:00\"],[\"2024-04-27T09:00:00+12:00\"],[\"2024-04-27T10:00:00+12:00\"],[\"2024-04-27T11:00:00+12:00\"],[\"2024-04-27T12:00:00+12:00\"],[\"2024-04-27T13:00:00+12:00\"],[\"2024-04-27T14:00:00+12:00\"],[\"2024-04-27T15:00:00+12:00\"],[\"2024-04-27T16:00:00+12:00\"],[\"2024-04-27T17:00:00+12:00\"],[\"2024-04-27T18:00:00+12:00\"],[\"2024-04-27T19:00:00+12:00\"],[\"2024-04-27T20:00:00+12:00\"],[\"2024-04-27T21:00:00+12:00\"],[\"2024-04-27T22:00:00+12:00\"],[\"2024-04-27T23:00:00+12:00\"]],\"hovertemplate\":\"Year=%{x}<br>PM10 Concentration=%{y}<br>Timestamp=%{customdata[0]}<extra></extra>\",\"legendgroup\":\"\",\"marker\":{\"color\":\"#636efa\",\"symbol\":\"circle\",\"line\":{\"color\":\"DarkSlateGrey\",\"width\":2},\"size\":8},\"mode\":\"markers\",\"name\":\"\",\"orientation\":\"v\",\"showlegend\":false,\"x\":[2006,2006,2006,2006,2006,2006,2006,2006,2006,2006,2006,2006,2006,2006,2006,2006,2006,2006,2006,2006,2006,2006,2007,2007,2007,2007,2007,2007,2007,2007,2007,2007,2007,2007,2007,2007,2007,2007,2007,2007,2007,2007,2007,2007,2008,2008,2008,2008,2008,2008,2008,2008,2008,2008,2008,2008,2008,2008,2008,2008,2008,2008,2008,2008,2008,2008,2008,2008,2009,2009,2009,2009,2009,2009,2009,2009,2009,2009,2009,2009,2009,2009,2009,2009,2009,2009,2009,2009,2009,2010,2010,2010,2010,2010,2010,2010,2010,2010,2010,2010,2010,2010,2010,2010,2010,2010,2010,2010,2010,2010,2010,2010,2010,2011,2011,2011,2011,2011,2011,2011,2011,2011,2011,2011,2011,2011,2011,2011,2011,2011,2011,2011,2011,2011,2011,2011,2011,2012,2012,2012,2012,2012,2012,2012,2012,2012,2012,2012,2012,2012,2012,2012,2012,2012,2012,2012,2012,2012,2012,2012,2013,2013,2013,2013,2013,2013,2013,2013,2013,2013,2013,2013,2013,2013,2013,2013,2013,2013,2013,2013,2013,2013,2013,2014,2014,2014,2014,2014,2014,2014,2014,2014,2014,2014,2014,2014,2014,2014,2014,2014,2014,2014,2014,2014,2014,2014,2014,2015,2015,2015,2015,2015,2015,2015,2015,2015,2015,2015,2015,2015,2015,2015,2015,2015,2015,2015,2015,2015,2015,2015,2015,2016,2016,2016,2016,2016,2016,2016,2016,2016,2016,2016,2016,2016,2016,2016,2016,2016,2016,2016,2016,2016,2016,2016,2017,2017,2017,2017,2017,2017,2017,2017,2017,2017,2017,2017,2017,2017,2017,2017,2017,2017,2017,2017,2017,2017,2017,2017,2018,2018,2018,2018,2018,2018,2018,2018,2018,2018,2018,2018,2018,2018,2018,2018,2018,2018,2018,2018,2018,2018,2018,2018,2019,2019,2019,2019,2019,2019,2019,2019,2019,2019,2019,2019,2019,2019,2019,2019,2019,2019,2019,2019,2019,2019,2019,2019,2020,2020,2020,2020,2020,2020,2020,2020,2020,2020,2020,2020,2020,2020,2020,2020,2020,2020,2020,2020,2020,2020,2020,2020,2021,2021,2021,2021,2021,2021,2021,2021,2021,2021,2021,2021,2021,2021,2021,2021,2021,2021,2021,2021,2021,2021,2021,2021,2022,2022,2022,2022,2022,2022,2022,2022,2022,2022,2022,2022,2022,2022,2022,2022,2022,2022,2022,2022,2022,2022,2022,2022,2023,2023,2023,2023,2023,2023,2023,2023,2023,2023,2023,2023,2023,2023,2023,2023,2023,2023,2023,2023,2023,2023,2023,2023,2024,2024,2024,2024,2024,2024,2024,2024,2024,2024,2024,2024,2024,2024,2024,2024,2024,2024,2024,2024,2024,2024,2024,2024],\"xaxis\":\"x\",\"y\":[20.9,21.4,16.6,12.5,11.5,15.0,15.1,25.6,4.3,10.4,11.1,13.9,12.2,20.0,14.3,18.0,7.8,19.4,14.6,16.6,12.9,9.1,26.9,31.9,25.2,21.9,19.5,14.6,20.9,32.3,26.4,13.2,5.6,5.4,8.2,5.0,10.5,13.7,10.3,11.2,5.7,1.3,10.4,5.3,32.8,23.0,18.1,8.1,12.2,10.2,5.3,9.5,11.4,7.8,10.9,10.3,12.2,10.0,6.5,6.2,5.6,18.8,9.3,9.5,15.5,9.1,15.2,14.2,26.6,19.7,21.7,22.3,25.0,28.0,24.7,23.6,19.9,16.5,23.0,28.1,26.8,31.1,28.7,32.5,28.5,24.4,29.8,23.0,24.1,14.8,25.3,22.7,20.2,22.5,23.8,20.2,22.1,19.9,23.6,24.5,20.9,25.8,25.5,27.2,18.4,8.3,15.9,21.0,10.3,8.4,5.8,3.3,8.6,6.3,15.4,7.8,6.8,4.0,7.8,5.7,11.5,8.7,18.1,11.8,15.0,8.8,9.0,8.7,5.9,8.6,5.4,11.9,15.3,17.3,22.2,15.5,15.9,19.3,26.3,23.7,19.5,24.4,17.2,23.8,22.6,22.2,15.9,5.7,9.0,15.0,25.1,31.9,30.8,28.9,25.3,7.0,10.8,-1.3,12.0,13.6,12.8,9.3,15.8,13.6,21.2,24.3,20.4,22.0,24.5,25.6,25.3,31.6,22.9,16.2,27.6,28.1,27.4,27.3,16.3,21.0,14.8,19.5,21.7,23.3,29.5,20.3,17.8,15.9,15.6,13.5,13.5,13.1,11.3,15.2,18.3,17.2,14.6,8.2,18.4,15.2,15.0,12.8,13.6,11.6,17.3,10.2,7.6,14.1,18.2,18.8,19.2,18.7,20.8,18.0,20.4,25.3,26.0,23.2,25.4,28.3,24.5,23.2,12.3,4.0,7.7,12.3,12.0,14.3,19.9,15.9,18.5,16.3,2.2,17.8,19.5,18.3,14.1,17.6,20.0,25.1,30.6,30.7,14.7,23.1,16.6,12.1,21.3,13.2,20.5,18.0,17.0,25.7,17.2,17.9,12.8,12.8,12.8,12.8,12.8,12.8,12.8,12.8,12.8,12.8,12.8,12.8,12.8,12.8,12.8,12.8,12.8,12.8,12.8,12.8,12.8,12.8,12.8,12.8,15.1,16.0,14.9,13.5,13.3,15.5,17.5,19.0,22.2,25.8,14.6,5.9,8.1,13.8,23.4,6.2,10.5,15.6,12.4,16.3,12.7,14.8,15.4,8.9,9.3,3.8,11.1,11.5,8.1,7.3,7.4,7.0,5.5,5.6,6.9,-1.5,10.0,12.3,3.4,9.7,15.1,16.9,13.0,14.4,11.3,10.7,16.8,12.0,13.4,14.4,11.2,10.9,5.9,6.5,9.6,10.5,6.6,3.2,-0.1,9.0,4.5,7.6,11.6,12.5,11.5,16.0,20.2,20.7,15.7,18.7,13.2,12.8,14.7,5.7,7.8,4.9,9.4,3.8,5.7,14.2,9.6,-0.3,9.1,21.8,0.7,16.2,17.8,5.5,15.4,15.9,14.4,12.8,18.9,14.1,12.0,11.2,5.0,11.7,9.6,8.6,2.8,9.3,17.6,15.9,17.6,14.7,23.3,19.7,22.2,25.9,11.0,12.7,15.9,17.8,16.7,18.9,15.1,19.1,15.5,17.5,22.1,16.4,13.8,19.7,10.4,15.6,12.9,15.5,18.5,16.0,29.8,19.9,25.3,20.9,15.8,15.1,22.7,15.4,29.2,21.0,26.3,27.2,26.3,26.0,16.1,14.8,10.3,8.8,13.8,12.8,12.9,10.4,11.6,12.8,5.3,7.4,7.2,11.4,10.1,13.3,15.6,5.9,11.2,14.7,10.2,8.2,10.2,9.9],\"yaxis\":\"y\",\"type\":\"scatter\"}],                        {\"template\":{\"data\":{\"histogram2dcontour\":[{\"type\":\"histogram2dcontour\",\"colorbar\":{\"outlinewidth\":0,\"ticks\":\"\"},\"colorscale\":[[0.0,\"#0d0887\"],[0.1111111111111111,\"#46039f\"],[0.2222222222222222,\"#7201a8\"],[0.3333333333333333,\"#9c179e\"],[0.4444444444444444,\"#bd3786\"],[0.5555555555555556,\"#d8576b\"],[0.6666666666666666,\"#ed7953\"],[0.7777777777777778,\"#fb9f3a\"],[0.8888888888888888,\"#fdca26\"],[1.0,\"#f0f921\"]]}],\"choropleth\":[{\"type\":\"choropleth\",\"colorbar\":{\"outlinewidth\":0,\"ticks\":\"\"}}],\"histogram2d\":[{\"type\":\"histogram2d\",\"colorbar\":{\"outlinewidth\":0,\"ticks\":\"\"},\"colorscale\":[[0.0,\"#0d0887\"],[0.1111111111111111,\"#46039f\"],[0.2222222222222222,\"#7201a8\"],[0.3333333333333333,\"#9c179e\"],[0.4444444444444444,\"#bd3786\"],[0.5555555555555556,\"#d8576b\"],[0.6666666666666666,\"#ed7953\"],[0.7777777777777778,\"#fb9f3a\"],[0.8888888888888888,\"#fdca26\"],[1.0,\"#f0f921\"]]}],\"heatmap\":[{\"type\":\"heatmap\",\"colorbar\":{\"outlinewidth\":0,\"ticks\":\"\"},\"colorscale\":[[0.0,\"#0d0887\"],[0.1111111111111111,\"#46039f\"],[0.2222222222222222,\"#7201a8\"],[0.3333333333333333,\"#9c179e\"],[0.4444444444444444,\"#bd3786\"],[0.5555555555555556,\"#d8576b\"],[0.6666666666666666,\"#ed7953\"],[0.7777777777777778,\"#fb9f3a\"],[0.8888888888888888,\"#fdca26\"],[1.0,\"#f0f921\"]]}],\"heatmapgl\":[{\"type\":\"heatmapgl\",\"colorbar\":{\"outlinewidth\":0,\"ticks\":\"\"},\"colorscale\":[[0.0,\"#0d0887\"],[0.1111111111111111,\"#46039f\"],[0.2222222222222222,\"#7201a8\"],[0.3333333333333333,\"#9c179e\"],[0.4444444444444444,\"#bd3786\"],[0.5555555555555556,\"#d8576b\"],[0.6666666666666666,\"#ed7953\"],[0.7777777777777778,\"#fb9f3a\"],[0.8888888888888888,\"#fdca26\"],[1.0,\"#f0f921\"]]}],\"contourcarpet\":[{\"type\":\"contourcarpet\",\"colorbar\":{\"outlinewidth\":0,\"ticks\":\"\"}}],\"contour\":[{\"type\":\"contour\",\"colorbar\":{\"outlinewidth\":0,\"ticks\":\"\"},\"colorscale\":[[0.0,\"#0d0887\"],[0.1111111111111111,\"#46039f\"],[0.2222222222222222,\"#7201a8\"],[0.3333333333333333,\"#9c179e\"],[0.4444444444444444,\"#bd3786\"],[0.5555555555555556,\"#d8576b\"],[0.6666666666666666,\"#ed7953\"],[0.7777777777777778,\"#fb9f3a\"],[0.8888888888888888,\"#fdca26\"],[1.0,\"#f0f921\"]]}],\"surface\":[{\"type\":\"surface\",\"colorbar\":{\"outlinewidth\":0,\"ticks\":\"\"},\"colorscale\":[[0.0,\"#0d0887\"],[0.1111111111111111,\"#46039f\"],[0.2222222222222222,\"#7201a8\"],[0.3333333333333333,\"#9c179e\"],[0.4444444444444444,\"#bd3786\"],[0.5555555555555556,\"#d8576b\"],[0.6666666666666666,\"#ed7953\"],[0.7777777777777778,\"#fb9f3a\"],[0.8888888888888888,\"#fdca26\"],[1.0,\"#f0f921\"]]}],\"mesh3d\":[{\"type\":\"mesh3d\",\"colorbar\":{\"outlinewidth\":0,\"ticks\":\"\"}}],\"scatter\":[{\"fillpattern\":{\"fillmode\":\"overlay\",\"size\":10,\"solidity\":0.2},\"type\":\"scatter\"}],\"parcoords\":[{\"type\":\"parcoords\",\"line\":{\"colorbar\":{\"outlinewidth\":0,\"ticks\":\"\"}}}],\"scatterpolargl\":[{\"type\":\"scatterpolargl\",\"marker\":{\"colorbar\":{\"outlinewidth\":0,\"ticks\":\"\"}}}],\"bar\":[{\"error_x\":{\"color\":\"#2a3f5f\"},\"error_y\":{\"color\":\"#2a3f5f\"},\"marker\":{\"line\":{\"color\":\"#E5ECF6\",\"width\":0.5},\"pattern\":{\"fillmode\":\"overlay\",\"size\":10,\"solidity\":0.2}},\"type\":\"bar\"}],\"scattergeo\":[{\"type\":\"scattergeo\",\"marker\":{\"colorbar\":{\"outlinewidth\":0,\"ticks\":\"\"}}}],\"scatterpolar\":[{\"type\":\"scatterpolar\",\"marker\":{\"colorbar\":{\"outlinewidth\":0,\"ticks\":\"\"}}}],\"histogram\":[{\"marker\":{\"pattern\":{\"fillmode\":\"overlay\",\"size\":10,\"solidity\":0.2}},\"type\":\"histogram\"}],\"scattergl\":[{\"type\":\"scattergl\",\"marker\":{\"colorbar\":{\"outlinewidth\":0,\"ticks\":\"\"}}}],\"scatter3d\":[{\"type\":\"scatter3d\",\"line\":{\"colorbar\":{\"outlinewidth\":0,\"ticks\":\"\"}},\"marker\":{\"colorbar\":{\"outlinewidth\":0,\"ticks\":\"\"}}}],\"scattermapbox\":[{\"type\":\"scattermapbox\",\"marker\":{\"colorbar\":{\"outlinewidth\":0,\"ticks\":\"\"}}}],\"scatterternary\":[{\"type\":\"scatterternary\",\"marker\":{\"colorbar\":{\"outlinewidth\":0,\"ticks\":\"\"}}}],\"scattercarpet\":[{\"type\":\"scattercarpet\",\"marker\":{\"colorbar\":{\"outlinewidth\":0,\"ticks\":\"\"}}}],\"carpet\":[{\"aaxis\":{\"endlinecolor\":\"#2a3f5f\",\"gridcolor\":\"white\",\"linecolor\":\"white\",\"minorgridcolor\":\"white\",\"startlinecolor\":\"#2a3f5f\"},\"baxis\":{\"endlinecolor\":\"#2a3f5f\",\"gridcolor\":\"white\",\"linecolor\":\"white\",\"minorgridcolor\":\"white\",\"startlinecolor\":\"#2a3f5f\"},\"type\":\"carpet\"}],\"table\":[{\"cells\":{\"fill\":{\"color\":\"#EBF0F8\"},\"line\":{\"color\":\"white\"}},\"header\":{\"fill\":{\"color\":\"#C8D4E3\"},\"line\":{\"color\":\"white\"}},\"type\":\"table\"}],\"barpolar\":[{\"marker\":{\"line\":{\"color\":\"#E5ECF6\",\"width\":0.5},\"pattern\":{\"fillmode\":\"overlay\",\"size\":10,\"solidity\":0.2}},\"type\":\"barpolar\"}],\"pie\":[{\"automargin\":true,\"type\":\"pie\"}]},\"layout\":{\"autotypenumbers\":\"strict\",\"colorway\":[\"#636efa\",\"#EF553B\",\"#00cc96\",\"#ab63fa\",\"#FFA15A\",\"#19d3f3\",\"#FF6692\",\"#B6E880\",\"#FF97FF\",\"#FECB52\"],\"font\":{\"color\":\"#2a3f5f\"},\"hovermode\":\"closest\",\"hoverlabel\":{\"align\":\"left\"},\"paper_bgcolor\":\"white\",\"plot_bgcolor\":\"#E5ECF6\",\"polar\":{\"bgcolor\":\"#E5ECF6\",\"angularaxis\":{\"gridcolor\":\"white\",\"linecolor\":\"white\",\"ticks\":\"\"},\"radialaxis\":{\"gridcolor\":\"white\",\"linecolor\":\"white\",\"ticks\":\"\"}},\"ternary\":{\"bgcolor\":\"#E5ECF6\",\"aaxis\":{\"gridcolor\":\"white\",\"linecolor\":\"white\",\"ticks\":\"\"},\"baxis\":{\"gridcolor\":\"white\",\"linecolor\":\"white\",\"ticks\":\"\"},\"caxis\":{\"gridcolor\":\"white\",\"linecolor\":\"white\",\"ticks\":\"\"}},\"coloraxis\":{\"colorbar\":{\"outlinewidth\":0,\"ticks\":\"\"}},\"colorscale\":{\"sequential\":[[0.0,\"#0d0887\"],[0.1111111111111111,\"#46039f\"],[0.2222222222222222,\"#7201a8\"],[0.3333333333333333,\"#9c179e\"],[0.4444444444444444,\"#bd3786\"],[0.5555555555555556,\"#d8576b\"],[0.6666666666666666,\"#ed7953\"],[0.7777777777777778,\"#fb9f3a\"],[0.8888888888888888,\"#fdca26\"],[1.0,\"#f0f921\"]],\"sequentialminus\":[[0.0,\"#0d0887\"],[0.1111111111111111,\"#46039f\"],[0.2222222222222222,\"#7201a8\"],[0.3333333333333333,\"#9c179e\"],[0.4444444444444444,\"#bd3786\"],[0.5555555555555556,\"#d8576b\"],[0.6666666666666666,\"#ed7953\"],[0.7777777777777778,\"#fb9f3a\"],[0.8888888888888888,\"#fdca26\"],[1.0,\"#f0f921\"]],\"diverging\":[[0,\"#8e0152\"],[0.1,\"#c51b7d\"],[0.2,\"#de77ae\"],[0.3,\"#f1b6da\"],[0.4,\"#fde0ef\"],[0.5,\"#f7f7f7\"],[0.6,\"#e6f5d0\"],[0.7,\"#b8e186\"],[0.8,\"#7fbc41\"],[0.9,\"#4d9221\"],[1,\"#276419\"]]},\"xaxis\":{\"gridcolor\":\"white\",\"linecolor\":\"white\",\"ticks\":\"\",\"title\":{\"standoff\":15},\"zerolinecolor\":\"white\",\"automargin\":true,\"zerolinewidth\":2},\"yaxis\":{\"gridcolor\":\"white\",\"linecolor\":\"white\",\"ticks\":\"\",\"title\":{\"standoff\":15},\"zerolinecolor\":\"white\",\"automargin\":true,\"zerolinewidth\":2},\"scene\":{\"xaxis\":{\"backgroundcolor\":\"#E5ECF6\",\"gridcolor\":\"white\",\"linecolor\":\"white\",\"showbackground\":true,\"ticks\":\"\",\"zerolinecolor\":\"white\",\"gridwidth\":2},\"yaxis\":{\"backgroundcolor\":\"#E5ECF6\",\"gridcolor\":\"white\",\"linecolor\":\"white\",\"showbackground\":true,\"ticks\":\"\",\"zerolinecolor\":\"white\",\"gridwidth\":2},\"zaxis\":{\"backgroundcolor\":\"#E5ECF6\",\"gridcolor\":\"white\",\"linecolor\":\"white\",\"showbackground\":true,\"ticks\":\"\",\"zerolinecolor\":\"white\",\"gridwidth\":2}},\"shapedefaults\":{\"line\":{\"color\":\"#2a3f5f\"}},\"annotationdefaults\":{\"arrowcolor\":\"#2a3f5f\",\"arrowhead\":0,\"arrowwidth\":1},\"geo\":{\"bgcolor\":\"white\",\"landcolor\":\"#E5ECF6\",\"subunitcolor\":\"white\",\"showland\":true,\"showlakes\":true,\"lakecolor\":\"white\"},\"title\":{\"x\":0.05},\"mapbox\":{\"style\":\"light\"}}},\"xaxis\":{\"anchor\":\"y\",\"domain\":[0.0,1.0],\"title\":{\"text\":\"Year\"}},\"yaxis\":{\"anchor\":\"x\",\"domain\":[0.0,1.0],\"title\":{\"text\":\"PM10 Concentration\"}},\"legend\":{\"tracegroupgap\":0},\"title\":{\"text\":\"PM10 Levels on April 27th Across Years\"}},                        {\"responsive\": true}                    ).then(function(){\n",
       "                            \n",
       "var gd = document.getElementById('78f0a9f2-e232-4e94-b245-1d046ebe19e7');\n",
       "var x = new MutationObserver(function (mutations, observer) {{\n",
       "        var display = window.getComputedStyle(gd).display;\n",
       "        if (!display || display === 'none') {{\n",
       "            console.log([gd, 'removed!']);\n",
       "            Plotly.purge(gd);\n",
       "            observer.disconnect();\n",
       "        }}\n",
       "}});\n",
       "\n",
       "// Listen for the removal of the full notebook cells\n",
       "var notebookContainer = gd.closest('#notebook-container');\n",
       "if (notebookContainer) {{\n",
       "    x.observe(notebookContainer, {childList: true});\n",
       "}}\n",
       "\n",
       "// Listen for the clearing of the current output cell\n",
       "var outputEl = gd.closest('.output');\n",
       "if (outputEl) {{\n",
       "    x.observe(outputEl, {childList: true});\n",
       "}}\n",
       "\n",
       "                        })                };                });            </script>        </div>"
      ]
     },
     "metadata": {},
     "output_type": "display_data"
    }
   ],
   "source": [
    "import pandas as pd\n",
    "import plotly.express as px\n",
    "\n",
    "# Load your data\n",
    "df = pd.read_csv('cleaned_median_val_pm10_data.csv')\n",
    "df['Timestamp'] = pd.to_datetime(df['Timestamp'])\n",
    "\n",
    "# Create 'Year' and 'Month_Day' columns\n",
    "df['Year'] = df['Timestamp'].dt.year\n",
    "df['Month_Day'] = df['Timestamp'].dt.strftime('%m-%d')\n",
    "\n",
    "# Filter for a specific date, for example, April 27 (04-27)\n",
    "specific_date_df = df[df['Month_Day'] == '04-27']\n",
    "\n",
    "# Create a scatter plot\n",
    "fig = px.scatter(specific_date_df, x='Year', y='Value',\n",
    "                 title='PM10 Levels on April 27th Across Years',\n",
    "                 labels={'Value': 'PM10 Concentration', 'Year': 'Year'},\n",
    "                 hover_data=['Timestamp'])\n",
    "\n",
    "# Customize dots\n",
    "fig.update_traces(marker=dict(size=8, line=dict(width=2, color='DarkSlateGrey')), mode='markers')\n",
    "\n",
    "# Show the figure\n",
    "fig.show()\n"
   ]
  },
  {
   "cell_type": "code",
   "execution_count": 7,
   "id": "d9557778",
   "metadata": {},
   "outputs": [
    {
     "ename": "OSError",
     "evalue": "Address 'http://127.0.0.1:8050' already in use.\n    Try passing a different port to run_server.",
     "output_type": "error",
     "traceback": [
      "\u001b[1;31m---------------------------------------------------------------------------\u001b[0m",
      "\u001b[1;31mOSError\u001b[0m                                   Traceback (most recent call last)",
      "Cell \u001b[1;32mIn[7], line 72\u001b[0m\n\u001b[0;32m     70\u001b[0m \u001b[38;5;66;03m# Run the app\u001b[39;00m\n\u001b[0;32m     71\u001b[0m \u001b[38;5;28;01mif\u001b[39;00m \u001b[38;5;18m__name__\u001b[39m \u001b[38;5;241m==\u001b[39m \u001b[38;5;124m'\u001b[39m\u001b[38;5;124m__main__\u001b[39m\u001b[38;5;124m'\u001b[39m:\n\u001b[1;32m---> 72\u001b[0m     app\u001b[38;5;241m.\u001b[39mrun_server(debug\u001b[38;5;241m=\u001b[39m\u001b[38;5;28;01mTrue\u001b[39;00m)\n",
      "File \u001b[1;32m~\\anaconda3\\Lib\\site-packages\\dash\\dash.py:2277\u001b[0m, in \u001b[0;36mDash.run_server\u001b[1;34m(self, *args, **kwargs)\u001b[0m\n\u001b[0;32m   2271\u001b[0m \u001b[38;5;28;01mdef\u001b[39;00m \u001b[38;5;21mrun_server\u001b[39m(\u001b[38;5;28mself\u001b[39m, \u001b[38;5;241m*\u001b[39margs, \u001b[38;5;241m*\u001b[39m\u001b[38;5;241m*\u001b[39mkwargs):\n\u001b[0;32m   2272\u001b[0m \u001b[38;5;250m    \u001b[39m\u001b[38;5;124;03m\"\"\"`run_server` is a deprecated alias of `run` and may be removed in a\u001b[39;00m\n\u001b[0;32m   2273\u001b[0m \u001b[38;5;124;03m    future version. We recommend using `app.run` instead.\u001b[39;00m\n\u001b[0;32m   2274\u001b[0m \n\u001b[0;32m   2275\u001b[0m \u001b[38;5;124;03m    See `app.run` for usage information.\u001b[39;00m\n\u001b[0;32m   2276\u001b[0m \u001b[38;5;124;03m    \"\"\"\u001b[39;00m\n\u001b[1;32m-> 2277\u001b[0m     \u001b[38;5;28mself\u001b[39m\u001b[38;5;241m.\u001b[39mrun(\u001b[38;5;241m*\u001b[39margs, \u001b[38;5;241m*\u001b[39m\u001b[38;5;241m*\u001b[39mkwargs)\n",
      "File \u001b[1;32m~\\anaconda3\\Lib\\site-packages\\dash\\dash.py:2168\u001b[0m, in \u001b[0;36mDash.run\u001b[1;34m(self, host, port, proxy, debug, jupyter_mode, jupyter_width, jupyter_height, jupyter_server_url, dev_tools_ui, dev_tools_props_check, dev_tools_serve_dev_bundles, dev_tools_hot_reload, dev_tools_hot_reload_interval, dev_tools_hot_reload_watch_interval, dev_tools_hot_reload_max_retry, dev_tools_silence_routes_logging, dev_tools_prune_errors, **flask_run_options)\u001b[0m\n\u001b[0;32m   2165\u001b[0m             extra_files\u001b[38;5;241m.\u001b[39mappend(path)\n\u001b[0;32m   2167\u001b[0m \u001b[38;5;28;01mif\u001b[39;00m jupyter_dash\u001b[38;5;241m.\u001b[39mactive:\n\u001b[1;32m-> 2168\u001b[0m     jupyter_dash\u001b[38;5;241m.\u001b[39mrun_app(\n\u001b[0;32m   2169\u001b[0m         \u001b[38;5;28mself\u001b[39m,\n\u001b[0;32m   2170\u001b[0m         mode\u001b[38;5;241m=\u001b[39mjupyter_mode,\n\u001b[0;32m   2171\u001b[0m         width\u001b[38;5;241m=\u001b[39mjupyter_width,\n\u001b[0;32m   2172\u001b[0m         height\u001b[38;5;241m=\u001b[39mjupyter_height,\n\u001b[0;32m   2173\u001b[0m         host\u001b[38;5;241m=\u001b[39mhost,\n\u001b[0;32m   2174\u001b[0m         port\u001b[38;5;241m=\u001b[39mport,\n\u001b[0;32m   2175\u001b[0m         server_url\u001b[38;5;241m=\u001b[39mjupyter_server_url,\n\u001b[0;32m   2176\u001b[0m     )\n\u001b[0;32m   2177\u001b[0m \u001b[38;5;28;01melse\u001b[39;00m:\n\u001b[0;32m   2178\u001b[0m     \u001b[38;5;28mself\u001b[39m\u001b[38;5;241m.\u001b[39mserver\u001b[38;5;241m.\u001b[39mrun(host\u001b[38;5;241m=\u001b[39mhost, port\u001b[38;5;241m=\u001b[39mport, debug\u001b[38;5;241m=\u001b[39mdebug, \u001b[38;5;241m*\u001b[39m\u001b[38;5;241m*\u001b[39mflask_run_options)\n",
      "File \u001b[1;32m~\\anaconda3\\Lib\\site-packages\\dash\\_jupyter.py:404\u001b[0m, in \u001b[0;36mJupyterDash.run_app\u001b[1;34m(self, app, mode, width, height, host, port, server_url)\u001b[0m\n\u001b[0;32m    402\u001b[0m     display(HTML(msg))\n\u001b[0;32m    403\u001b[0m \u001b[38;5;28;01melse\u001b[39;00m:\n\u001b[1;32m--> 404\u001b[0m     \u001b[38;5;28;01mraise\u001b[39;00m final_error\n",
      "File \u001b[1;32m~\\anaconda3\\Lib\\site-packages\\dash\\_jupyter.py:391\u001b[0m, in \u001b[0;36mJupyterDash.run_app\u001b[1;34m(self, app, mode, width, height, host, port, server_url)\u001b[0m\n\u001b[0;32m    388\u001b[0m         \u001b[38;5;28;01mraise\u001b[39;00m err\n\u001b[0;32m    390\u001b[0m \u001b[38;5;28;01mtry\u001b[39;00m:\n\u001b[1;32m--> 391\u001b[0m     wait_for_app()\n\u001b[0;32m    393\u001b[0m     \u001b[38;5;28;01mif\u001b[39;00m \u001b[38;5;28mself\u001b[39m\u001b[38;5;241m.\u001b[39min_colab:\n\u001b[0;32m    394\u001b[0m         JupyterDash\u001b[38;5;241m.\u001b[39m_display_in_colab(dashboard_url, port, mode, width, height)\n",
      "File \u001b[1;32m~\\anaconda3\\Lib\\site-packages\\retrying.py:56\u001b[0m, in \u001b[0;36mretry.<locals>.wrap.<locals>.wrapped_f\u001b[1;34m(*args, **kw)\u001b[0m\n\u001b[0;32m     54\u001b[0m \u001b[38;5;129m@six\u001b[39m\u001b[38;5;241m.\u001b[39mwraps(f)\n\u001b[0;32m     55\u001b[0m \u001b[38;5;28;01mdef\u001b[39;00m \u001b[38;5;21mwrapped_f\u001b[39m(\u001b[38;5;241m*\u001b[39margs, \u001b[38;5;241m*\u001b[39m\u001b[38;5;241m*\u001b[39mkw):\n\u001b[1;32m---> 56\u001b[0m     \u001b[38;5;28;01mreturn\u001b[39;00m Retrying(\u001b[38;5;241m*\u001b[39mdargs, \u001b[38;5;241m*\u001b[39m\u001b[38;5;241m*\u001b[39mdkw)\u001b[38;5;241m.\u001b[39mcall(f, \u001b[38;5;241m*\u001b[39margs, \u001b[38;5;241m*\u001b[39m\u001b[38;5;241m*\u001b[39mkw)\n",
      "File \u001b[1;32m~\\anaconda3\\Lib\\site-packages\\retrying.py:266\u001b[0m, in \u001b[0;36mRetrying.call\u001b[1;34m(self, fn, *args, **kwargs)\u001b[0m\n\u001b[0;32m    263\u001b[0m \u001b[38;5;28;01mif\u001b[39;00m \u001b[38;5;28mself\u001b[39m\u001b[38;5;241m.\u001b[39mstop(attempt_number, delay_since_first_attempt_ms):\n\u001b[0;32m    264\u001b[0m     \u001b[38;5;28;01mif\u001b[39;00m \u001b[38;5;129;01mnot\u001b[39;00m \u001b[38;5;28mself\u001b[39m\u001b[38;5;241m.\u001b[39m_wrap_exception \u001b[38;5;129;01mand\u001b[39;00m attempt\u001b[38;5;241m.\u001b[39mhas_exception:\n\u001b[0;32m    265\u001b[0m         \u001b[38;5;66;03m# get() on an attempt with an exception should cause it to be raised, but raise just in case\u001b[39;00m\n\u001b[1;32m--> 266\u001b[0m         \u001b[38;5;28;01mraise\u001b[39;00m attempt\u001b[38;5;241m.\u001b[39mget()\n\u001b[0;32m    267\u001b[0m     \u001b[38;5;28;01melse\u001b[39;00m:\n\u001b[0;32m    268\u001b[0m         \u001b[38;5;28;01mraise\u001b[39;00m RetryError(attempt)\n",
      "File \u001b[1;32m~\\anaconda3\\Lib\\site-packages\\retrying.py:301\u001b[0m, in \u001b[0;36mAttempt.get\u001b[1;34m(self, wrap_exception)\u001b[0m\n\u001b[0;32m    299\u001b[0m         \u001b[38;5;28;01mraise\u001b[39;00m RetryError(\u001b[38;5;28mself\u001b[39m)\n\u001b[0;32m    300\u001b[0m     \u001b[38;5;28;01melse\u001b[39;00m:\n\u001b[1;32m--> 301\u001b[0m         six\u001b[38;5;241m.\u001b[39mreraise(\u001b[38;5;28mself\u001b[39m\u001b[38;5;241m.\u001b[39mvalue[\u001b[38;5;241m0\u001b[39m], \u001b[38;5;28mself\u001b[39m\u001b[38;5;241m.\u001b[39mvalue[\u001b[38;5;241m1\u001b[39m], \u001b[38;5;28mself\u001b[39m\u001b[38;5;241m.\u001b[39mvalue[\u001b[38;5;241m2\u001b[39m])\n\u001b[0;32m    302\u001b[0m \u001b[38;5;28;01melse\u001b[39;00m:\n\u001b[0;32m    303\u001b[0m     \u001b[38;5;28;01mreturn\u001b[39;00m \u001b[38;5;28mself\u001b[39m\u001b[38;5;241m.\u001b[39mvalue\n",
      "File \u001b[1;32m~\\anaconda3\\Lib\\site-packages\\six.py:719\u001b[0m, in \u001b[0;36mreraise\u001b[1;34m(tp, value, tb)\u001b[0m\n\u001b[0;32m    717\u001b[0m     \u001b[38;5;28;01mif\u001b[39;00m value\u001b[38;5;241m.\u001b[39m__traceback__ \u001b[38;5;129;01mis\u001b[39;00m \u001b[38;5;129;01mnot\u001b[39;00m tb:\n\u001b[0;32m    718\u001b[0m         \u001b[38;5;28;01mraise\u001b[39;00m value\u001b[38;5;241m.\u001b[39mwith_traceback(tb)\n\u001b[1;32m--> 719\u001b[0m     \u001b[38;5;28;01mraise\u001b[39;00m value\n\u001b[0;32m    720\u001b[0m \u001b[38;5;28;01mfinally\u001b[39;00m:\n\u001b[0;32m    721\u001b[0m     value \u001b[38;5;241m=\u001b[39m \u001b[38;5;28;01mNone\u001b[39;00m\n",
      "File \u001b[1;32m~\\anaconda3\\Lib\\site-packages\\retrying.py:251\u001b[0m, in \u001b[0;36mRetrying.call\u001b[1;34m(self, fn, *args, **kwargs)\u001b[0m\n\u001b[0;32m    248\u001b[0m     \u001b[38;5;28mself\u001b[39m\u001b[38;5;241m.\u001b[39m_before_attempts(attempt_number)\n\u001b[0;32m    250\u001b[0m \u001b[38;5;28;01mtry\u001b[39;00m:\n\u001b[1;32m--> 251\u001b[0m     attempt \u001b[38;5;241m=\u001b[39m Attempt(fn(\u001b[38;5;241m*\u001b[39margs, \u001b[38;5;241m*\u001b[39m\u001b[38;5;241m*\u001b[39mkwargs), attempt_number, \u001b[38;5;28;01mFalse\u001b[39;00m)\n\u001b[0;32m    252\u001b[0m \u001b[38;5;28;01mexcept\u001b[39;00m:\n\u001b[0;32m    253\u001b[0m     tb \u001b[38;5;241m=\u001b[39m sys\u001b[38;5;241m.\u001b[39mexc_info()\n",
      "File \u001b[1;32m~\\anaconda3\\Lib\\site-packages\\dash\\_jupyter.py:382\u001b[0m, in \u001b[0;36mJupyterDash.run_app.<locals>.wait_for_app\u001b[1;34m()\u001b[0m\n\u001b[0;32m    380\u001b[0m     \u001b[38;5;28;01mif\u001b[39;00m res \u001b[38;5;241m!=\u001b[39m \u001b[38;5;124m\"\u001b[39m\u001b[38;5;124mAlive\u001b[39m\u001b[38;5;124m\"\u001b[39m:\n\u001b[0;32m    381\u001b[0m         url \u001b[38;5;241m=\u001b[39m \u001b[38;5;124mf\u001b[39m\u001b[38;5;124m\"\u001b[39m\u001b[38;5;124mhttp://\u001b[39m\u001b[38;5;132;01m{\u001b[39;00mhost\u001b[38;5;132;01m}\u001b[39;00m\u001b[38;5;124m:\u001b[39m\u001b[38;5;132;01m{\u001b[39;00mport\u001b[38;5;132;01m}\u001b[39;00m\u001b[38;5;124m\"\u001b[39m\n\u001b[1;32m--> 382\u001b[0m         \u001b[38;5;28;01mraise\u001b[39;00m \u001b[38;5;167;01mOSError\u001b[39;00m(\n\u001b[0;32m    383\u001b[0m             \u001b[38;5;124mf\u001b[39m\u001b[38;5;124m\"\u001b[39m\u001b[38;5;124mAddress \u001b[39m\u001b[38;5;124m'\u001b[39m\u001b[38;5;132;01m{\u001b[39;00murl\u001b[38;5;132;01m}\u001b[39;00m\u001b[38;5;124m'\u001b[39m\u001b[38;5;124m already in use.\u001b[39m\u001b[38;5;130;01m\\n\u001b[39;00m\u001b[38;5;124m\"\u001b[39m\n\u001b[0;32m    384\u001b[0m             \u001b[38;5;124m\"\u001b[39m\u001b[38;5;124m    Try passing a different port to run_server.\u001b[39m\u001b[38;5;124m\"\u001b[39m\n\u001b[0;32m    385\u001b[0m         )\n\u001b[0;32m    386\u001b[0m \u001b[38;5;28;01mexcept\u001b[39;00m requests\u001b[38;5;241m.\u001b[39mConnectionError \u001b[38;5;28;01mas\u001b[39;00m err:\n\u001b[0;32m    387\u001b[0m     _get_error()\n",
      "\u001b[1;31mOSError\u001b[0m: Address 'http://127.0.0.1:8050' already in use.\n    Try passing a different port to run_server."
     ]
    }
   ],
   "source": [
    "import pandas as pd\n",
    "import calplot\n",
    "import plotly.express as px\n",
    "import plotly.graph_objects as go\n",
    "from dash import Dash, dcc, html\n",
    "from dash.dependencies import Input, Output\n",
    "\n",
    "# Load your data\n",
    "df = pd.read_csv('cleaned_median_val_pm10_data.csv')\n",
    "df['Timestamp'] = pd.to_datetime(df['Timestamp'])\n",
    "\n",
    "# Prepare daily mean data for heatmap\n",
    "daily_mean = df.resample('D', on='Timestamp').mean().reset_index()\n",
    "daily_mean.set_index('Timestamp', inplace=True)  # Ensure 'Timestamp' is the datetime index\n",
    "\n",
    "# Initialize the app\n",
    "app = Dash(__name__)\n",
    "\n",
    "# App layout\n",
    "app.layout = html.Div([\n",
    "    html.H1(\"Interactive PM10 Data Visualization\"),\n",
    "\n",
    "    # Dropdown for selecting the type of visualization\n",
    "    dcc.Dropdown(\n",
    "        id='plot-type',\n",
    "        options=[\n",
    "            {'label': 'Time Series Plot', 'value': 'time_series'},\n",
    "            {'label': 'Box Plot', 'value': 'box_plot'},\n",
    "            {'label': 'Heatmap', 'value': 'heatmap'},\n",
    "            {'label': 'Calendar Heatmap', 'value': 'calendar_heatmap'}  # New option for calendar heatmap\n",
    "        ],\n",
    "        value='time_series'\n",
    "    ),\n",
    "\n",
    "    # Graph to display the visualizations\n",
    "    dcc.Graph(id='graph'),\n",
    "\n",
    "    # Slider for selecting the year (used for time series and box plot)\n",
    "    dcc.Slider(\n",
    "        id='year-slider',\n",
    "        min=df['Timestamp'].dt.year.min(),\n",
    "        max=df['Timestamp'].dt.year.max(),\n",
    "        value=df['Timestamp'].dt.year.min(),\n",
    "        marks={str(year): str(year) for year in df['Timestamp'].dt.year.unique()},\n",
    "        step=None\n",
    "    )\n",
    "])\n",
    "\n",
    "# Callback to update graph based on selected visualization type and year\n",
    "@app.callback(\n",
    "    Output('graph', 'figure'),\n",
    "    [Input('plot-type', 'value'), Input('year-slider', 'value')]\n",
    ")\n",
    "def update_figure(plot_type, selected_year):\n",
    "    if plot_type in ['time_series', 'box_plot', 'heatmap']:\n",
    "        filtered_df = df[df['Timestamp'].dt.year == selected_year]\n",
    "    \n",
    "    if plot_type == 'time_series':\n",
    "        fig = px.line(filtered_df, x='Timestamp', y='Value', title='PM10 Time Series')\n",
    "    elif plot_type == 'box_plot':\n",
    "        fig = px.box(filtered_df, x=filtered_df['Timestamp'].dt.month, y='Value', title='Monthly PM10 Distribution')\n",
    "    elif plot_type == 'heatmap':\n",
    "        heatmap_data = filtered_df.pivot_table(index=filtered_df['Timestamp'].dt.hour, columns=filtered_df['Timestamp'].dt.day, values='Value', aggfunc='mean')\n",
    "        fig = px.imshow(heatmap_data)\n",
    "    elif plot_type == 'calendar_heatmap':\n",
    "        fig = calplot.calplot(daily_mean['Value'], how='mean', cmap='YlOrRd', suptitle='Daily Average PM10 Concentration')[0]  # calplot returns a tuple (fig, axes)\n",
    "\n",
    "    return fig\n",
    "\n",
    "# Run the app\n",
    "if __name__ == '__main__':\n",
    "    app.run_server(debug=True)\n"
   ]
  },
  {
   "cell_type": "code",
   "execution_count": null,
   "id": "b2efdb33",
   "metadata": {},
   "outputs": [],
   "source": [
    "import pandas as pd\n",
    "import calplot\n",
    "import dash\n",
    "from dash import dcc, html\n",
    "from dash.dependencies import Input, Output\n",
    "\n",
    "# Assuming df is already loaded and cleaned\n",
    "df['Date'] = df['Timestamp'].dt.date\n",
    "daily_mean = df.groupby('Date')['Value'].mean()\n",
    "daily_mean.index = pd.to_datetime(daily_mean.index)  # Ensuring the index is datetime\n",
    "\n",
    "app = dash.Dash(__name__)\n",
    "\n",
    "# Define the layout of the app\n",
    "app.layout = html.Div([\n",
    "    html.H1(\"Interactive PM10 Data Visualization\"),\n",
    "    dcc.Graph(id='calendar-heatmap'),\n",
    "])\n",
    "\n",
    "# Callback to update the calendar heatmap\n",
    "@app.callback(\n",
    "    Output('calendar-heatmap', 'figure'),\n",
    "    Input('calendar-heatmap', 'value')  # This could be adjusted based on actual input requirements\n",
    ")\n",
    "def update_calendar_heatmap(selected_year):\n",
    "    # You can filter by year if needed, or adjust logic here\n",
    "    fig, ax = calplot.calplot(daily_mean, how='mean', cmap='YlOrRd', suptitle='Daily Average PM10 Concentration')\n",
    "    return fig\n",
    "\n",
    "# Run the app\n",
    "if __name__ == '__main__':\n",
    "    app.run_server(debug=True)\n"
   ]
  },
  {
   "cell_type": "code",
   "execution_count": null,
   "id": "f2d745bd",
   "metadata": {},
   "outputs": [],
   "source": [
    "import pandas as pd\n",
    "import plotly.express as px\n",
    "from dash import Dash, dcc, html\n",
    "from dash.dependencies import Input, Output\n",
    "\n",
    "# Load your data\n",
    "df = pd.read_csv('cleaned_median_val_pm10_data.csv')\n",
    "df['Timestamp'] = pd.to_datetime(df['Timestamp'])\n",
    "\n",
    "# Create a 'Month_Day' column for filtering by same date across years\n",
    "df['Month_Day'] = df['Timestamp'].dt.strftime('%m-%d')\n",
    "\n",
    "# Initialize the Dash app\n",
    "app = Dash(__name__)\n",
    "\n",
    "app.layout = html.Div([\n",
    "    html.H1(\"PM10 Data Visualization Across Years for a Specific Date\"),\n",
    "    dcc.Dropdown(\n",
    "        id='date-picker',\n",
    "        options=[{'label': date, 'value': date} for date in df['Month_Day'].unique()],\n",
    "        value='04-02'  # Default value can be set to any valid date\n",
    "    ),\n",
    "    dcc.Graph(id='time-series-graph')\n",
    "])\n",
    "\n",
    "@app.callback(\n",
    "    Output('time-series-graph', 'figure'),\n",
    "    Input('date-picker', 'value')\n",
    ")\n",
    "def update_graph(selected_date):\n",
    "    # Filter DataFrame by 'Month_Day' to get data for the selected date across all years\n",
    "    filtered_df = df[df['Month_Day'] == selected_date]\n",
    "    fig = px.line(filtered_df, x='Timestamp', y='Value', title=f'PM10 Levels on {selected_date} Across Years')\n",
    "    fig.update_xaxes(title='Year')\n",
    "    fig.update_yaxes(title='PM10 Concentration')\n",
    "    return fig\n",
    "\n",
    "\n"
   ]
  },
  {
   "cell_type": "code",
   "execution_count": null,
   "id": "a8d6fc86",
   "metadata": {},
   "outputs": [],
   "source": [
    "import pandas as pd\n",
    "import plotly.graph_objects as go\n",
    "\n",
    "# Load your data\n",
    "df = pd.read_csv('cleaned_median_val_pm10_data.csv')\n",
    "df['Timestamp'] = pd.to_datetime(df['Timestamp'])\n",
    "df.sort_values('Timestamp', inplace=True)\n",
    "\n",
    "# Calculate rolling averages for smoothing\n",
    "df['7_day_avg'] = df['Value'].rolling(window=7, center=True).mean()\n",
    "df['30_day_avg'] = df['Value'].rolling(window=30, center=True).mean()\n",
    "\n",
    "# Create the plot\n",
    "fig = go.Figure()\n",
    "\n",
    "# Add traces for raw data, 7-day average, and 30-day average\n",
    "fig.add_trace(go.Scatter(x=df['Timestamp'], y=df['Value'], mode='lines', name='Daily PM10',\n",
    "                         line=dict(color='blue', width=1), opacity=0.6))\n",
    "fig.add_trace(go.Scatter(x=df['Timestamp'], y=df['7_day_avg'], mode='lines', name='7-Day Average',\n",
    "                         line=dict(color='red', width=2)))\n",
    "fig.add_trace(go.Scatter(x=df['Timestamp'], y=df['30_day_avg'], mode='lines', name='30-Day Average',\n",
    "                         line=dict(color='green', width=2)))\n",
    "\n",
    "# Update layout for a better visual experience\n",
    "fig.update_layout(title='Interactive Time Series Visualization of PM10 Data',\n",
    "                  xaxis_title='Date',\n",
    "                  yaxis_title='PM10 Concentration',\n",
    "                  hovermode='x unified')\n",
    "\n",
    "# Enhance layout with more customization\n",
    "fig.update_xaxes(rangeslider_visible=True, rangeselector=dict(\n",
    "    buttons=list([\n",
    "        dict(count=1, label=\"1m\", step=\"month\", stepmode=\"backward\"),\n",
    "        dict(count=6, label=\"6m\", step=\"month\", stepmode=\"backward\"),\n",
    "        dict(step=\"all\")\n",
    "    ])\n",
    "))\n",
    "\n",
    "# Show the figure\n",
    "fig.show()\n"
   ]
  },
  {
   "cell_type": "code",
   "execution_count": null,
   "id": "6525dd3e",
   "metadata": {},
   "outputs": [],
   "source": []
  }
 ],
 "metadata": {
  "kernelspec": {
   "display_name": "Python 3 (ipykernel)",
   "language": "python",
   "name": "python3"
  },
  "language_info": {
   "codemirror_mode": {
    "name": "ipython",
    "version": 3
   },
   "file_extension": ".py",
   "mimetype": "text/x-python",
   "name": "python",
   "nbconvert_exporter": "python",
   "pygments_lexer": "ipython3",
   "version": "3.11.5"
  }
 },
 "nbformat": 4,
 "nbformat_minor": 5
}
