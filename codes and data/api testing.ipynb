{
 "cells": [
  {
   "cell_type": "code",
   "execution_count": null,
   "id": "40225c29",
   "metadata": {},
   "outputs": [],
   "source": [
    "import requests\n",
    "import pandas as pd\n",
    "from bs4 import BeautifulSoup\n",
    "import matplotlib.pyplot as plt\n",
    "import seaborn as sns\n",
    "\n",
    "# Step 1: Access the API\n",
    "url = \"http://aklc.hydrotel.co.nz:8080/KiWIS/KiWIS?service=kisters&type=queryServices&request=getTimeseriesValues&datasource=1&format=html&ts_id=4080&from=2006-01-01\"\n",
    "page = requests.get(url)\n",
    "\n",
    "soup = BeautifulSoup(page.text, 'lxml')\n",
    "table = \n"
   ]
  },
  {
   "cell_type": "code",
   "execution_count": null,
   "id": "fde99b48",
   "metadata": {},
   "outputs": [],
   "source": [
    "data"
   ]
  },
  {
   "cell_type": "code",
   "execution_count": null,
   "id": "f41f2200",
   "metadata": {},
   "outputs": [],
   "source": [
    "\n",
    "# Ensure data is not None and is a string\n",
    "if data:\n",
    "    # Step 2: Parse HTML with BeautifulSoup\n",
    "    soup = BeautifulSoup(data, 'html.parser')\n",
    "    rows = soup.find_all('tr')\n",
    "\n",
    "    # Extracting the header\n",
    "    headers = [header.get_text() for header in rows[3].find_all('td')]\n",
    "\n",
    "    # Extracting the data\n",
    "    data = []\n",
    "    for row in rows[4:]:\n",
    "        cols = row.find_all('td')\n",
    "        if len(cols) == 2:\n",
    "            data.append([col.get_text() for col in cols])\n",
    "\n",
    "    # Create DataFrame\n",
    "    df = pd.DataFrame(data, columns=headers)\n",
    "\n",
    "   "
   ]
  },
  {
   "cell_type": "code",
   "execution_count": null,
   "id": "de729c24",
   "metadata": {},
   "outputs": [],
   "source": [
    "df"
   ]
  },
  {
   "cell_type": "code",
   "execution_count": null,
   "id": "0a51a63f",
   "metadata": {},
   "outputs": [],
   "source": [
    " # Convert the 'Timestamp' column to datetime\n",
    "    df['Timestamp'] = pd.to_datetime(df['Timestamp'])\n",
    "\n",
    "    # Convert the 'Value' column to numeric\n",
    "    df['Value'] = pd.to_numeric(df['Value'])\n",
    "\n",
    "    # Save to CSV\n",
    "    df.to_csv('pm10_data.csv', index=False)\n",
    "\n",
    "    # Step 3: Visualize the Data\n",
    "    plt.figure(figsize=(14, 7))\n",
    "    sns.lineplot(x='Timestamp', y='Value', data=df)\n",
    "    plt.title('PM10 Levels Over Time')\n",
    "    plt.xlabel('Timestamp')\n",
    "    plt.ylabel('PM10 Value')\n",
    "    plt.grid(True)\n",
    "    plt.show()\n",
    "else:\n",
    "    print(\"No data to process\")\n"
   ]
  },
  {
   "cell_type": "code",
   "execution_count": null,
   "id": "ebfd97b7",
   "metadata": {},
   "outputs": [],
   "source": [
    "import requests\n",
    "import pandas as pd\n",
    "from bs4 import BeautifulSoup\n",
    "\n",
    "# Step 1: Access the API\n",
    "url = \"http://aklc.hydrotel.co.nz:8080/KiWIS/KiWIS?service=kisters&type=queryServices&request=getTimeseriesValues&datasource=1&format=html&ts_id=4080&from=2006-01-01\"\n",
    "response = requests.get(url)\n",
    "\n",
    "# Check if the request was successful\n",
    "if response.status_code == 200:\n",
    "    data = response.text\n",
    "else:\n",
    "    print(\"Failed to retrieve data\")\n",
    "    data = None\n",
    "\n",
    "if data:\n",
    "    # Step 2: Parse HTML with BeautifulSoup\n",
    "    soup = BeautifulSoup(data, 'html.parser')\n",
    "    rows = soup.find_all('tr')\n",
    "\n",
    "    # Extracting the header\n",
    "    headers = [header.get_text() for header in rows[3].find_all('td')]\n",
    "\n",
    "    # Extracting the data\n",
    "    data = []\n",
    "    for row in rows[4:]:\n",
    "        cols = row.find_all('td')\n",
    "        if len(cols) == 2:\n",
    "            data.append([col.get_text() for col in cols])\n",
    "\n",
    "    # Create DataFrame\n",
    "    df = pd.DataFrame(data, columns=headers)\n",
    "\n",
    "    # Convert the 'Timestamp' column to datetime\n",
    "    df['Timestamp'] = pd.to_datetime(df['Timestamp'])\n",
    "\n",
    "    # Convert the 'Value' column to numeric\n",
    "    df['Value'] = pd.to_numeric(df['Value'])\n",
    "\n",
    "    # Save to CSV\n",
    "    df.to_csv('pm10_data.csv', index=False)\n",
    "else:\n",
    "    print(\"No data to process\")\n"
   ]
  },
  {
   "cell_type": "code",
   "execution_count": null,
   "id": "551a5d00",
   "metadata": {},
   "outputs": [],
   "source": []
  }
 ],
 "metadata": {
  "kernelspec": {
   "display_name": "Python 3 (ipykernel)",
   "language": "python",
   "name": "python3"
  },
  "language_info": {
   "codemirror_mode": {
    "name": "ipython",
    "version": 3
   },
   "file_extension": ".py",
   "mimetype": "text/x-python",
   "name": "python",
   "nbconvert_exporter": "python",
   "pygments_lexer": "ipython3",
   "version": "3.11.5"
  }
 },
 "nbformat": 4,
 "nbformat_minor": 5
}
