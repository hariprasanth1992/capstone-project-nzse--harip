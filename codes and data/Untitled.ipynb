{
 "cells": [
  {
   "cell_type": "code",
   "execution_count": null,
   "id": "998128f8",
   "metadata": {},
   "outputs": [],
   "source": [
    "import requests\n",
    "\n",
    "url = \"http://aklc.hydrotel.co.nz:8080/KiWIS/KiWIS?service=kisters&type=queryServices&request=getTimeseriesValues&datasource=1&format=html&ts_id=4080&from=2006-01-01\"\n",
    "response = requests.get(url)\n",
    "\n",
    "# Check if the request was successful\n",
    "if response.status_code == 200:\n",
    "    data = response.text\n",
    "else:\n",
    "    print(\"Failed to retrieve data\")\n"
   ]
  },
  {
   "cell_type": "code",
   "execution_count": null,
   "id": "304da08f",
   "metadata": {},
   "outputs": [],
   "source": [
    "import pandas as pd\n",
    "from bs4 import BeautifulSoup\n",
    "\n",
    "soup = BeautifulSoup(data, 'html.parser')\n",
    "table = soup.find('table')\n",
    "\n",
    "# Extract table headers\n",
    "headers = [header.text for header in table.find_all('th')]\n",
    "\n",
    "# Extract table rows\n",
    "rows = []\n",
    "for row in table.find_all('tr')[1:]:\n",
    "    cells = row.find_all('td')\n",
    "    rows.append([cell.text for cell in cells])\n",
    "\n",
    "# Create DataFrame\n",
    "df = pd.DataFrame(rows, columns=headers)\n",
    "\n",
    "# Save to CSV\n",
    "df.to_csv('pm10_data.csv', index=False)\n"
   ]
  },
  {
   "cell_type": "code",
   "execution_count": null,
   "id": "425cedc5",
   "metadata": {},
   "outputs": [],
   "source": [
    "df = pd.read_csv('pm10_data.csv')\n",
    "df['Timestamp'] = pd.to_datetime(df['Timestamp'])\n",
    "df['Value'] = pd.to_numeric(df['Value'])\n"
   ]
  },
  {
   "cell_type": "code",
   "execution_count": null,
   "id": "bb58faa6",
   "metadata": {},
   "outputs": [],
   "source": [
    "import matplotlib.pyplot as plt\n",
    "import seaborn as sns\n",
    "\n",
    "plt.figure(figsize=(12, 6))\n",
    "sns.lineplot(data=df, x='Timestamp', y='Value')\n",
    "plt.title('PM10 Levels in Takapuna, Auckland')\n",
    "plt.xlabel('Date')\n",
    "plt.ylabel('PM10 Value')\n",
    "plt.show()\n"
   ]
  },
  {
   "cell_type": "code",
   "execution_count": null,
   "id": "fe158dab",
   "metadata": {},
   "outputs": [],
   "source": [
    "import requests\n",
    "import pandas as pd\n",
    "from bs4 import BeautifulSoup\n",
    "import matplotlib.pyplot as plt\n",
    "import seaborn as sns\n",
    "\n",
    "# Step 1: Access the API\n",
    "url = \"http://aklc.hydrotel.co.nz:8080/KiWIS/KiWIS?service=kisters&type=queryServices&request=getTimeseriesValues&datasource=1&format=html&ts_id=4080&from=2006-01-01\"\n",
    "response = requests.get(url)\n",
    "\n",
    "# Check if the request was successful\n",
    "if response.status_code == 200:\n",
    "    data = response.text\n",
    "else:\n",
    "    print(\"Failed to retrieve data\")\n",
    "    data = None\n",
    "\n",
    "# Step 2: Convert API Response to CSV\n",
    "if data:\n",
    "    soup = BeautifulSoup(data, 'html.parser')\n",
    "    table = soup.find('table')\n",
    "\n",
    "    # Extract table headers\n",
    "    headers = [header.text for header in table.find_all('th')]\n",
    "\n",
    "    # Extract table rows\n",
    "    rows = []\n",
    "    for row in table.find_all('tr')[1:]:\n",
    "        cells = row.find_all('td')\n",
    "        rows.append([cell.text for cell in cells])\n",
    "\n",
    "    # Create DataFrame\n",
    "    df = pd.DataFrame(rows, columns=headers)\n",
    "\n",
    "    # Save to CSV\n",
    "    df.to_csv('pm10_data.csv', index=False)\n",
    "\n",
    "    # Step 3: Load the CSV Data\n",
    "    df = pd.read_csv('pm10_data.csv')\n",
    "    df['Timestamp'] = pd.to_datetime(df['Timestamp'])\n",
    "    df['Value'] = pd.to_numeric(df['Value'])\n",
    "\n",
    "    # Step 4: Visualize the Data\n",
    "    plt.figure(figsize=(12, 6))\n",
    "    sns.lineplot(data=df, x='Timestamp', y='Value')\n",
    "    plt.title('PM10 Levels in Takapuna, Auckland')\n",
    "    plt.xlabel('Date')\n",
    "    plt.ylabel('PM10 Value')\n",
    "    plt.xticks(rotation=45)\n",
    "    plt.tight_layout()\n",
    "    plt.show()\n",
    "else:\n",
    "    print(\"No data to process\")\n"
   ]
  }
 ],
 "metadata": {
  "kernelspec": {
   "display_name": "Python 3 (ipykernel)",
   "language": "python",
   "name": "python3"
  },
  "language_info": {
   "codemirror_mode": {
    "name": "ipython",
    "version": 3
   },
   "file_extension": ".py",
   "mimetype": "text/x-python",
   "name": "python",
   "nbconvert_exporter": "python",
   "pygments_lexer": "ipython3",
   "version": "3.11.5"
  }
 },
 "nbformat": 4,
 "nbformat_minor": 5
}
